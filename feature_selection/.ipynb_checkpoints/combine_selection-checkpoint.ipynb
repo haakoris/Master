{
 "cells": [
  {
   "cell_type": "markdown",
   "id": "519a784a-0697-4a25-aa9e-eb678de49c94",
   "metadata": {},
   "source": [
    "# Combining results from feature selection"
   ]
  },
  {
   "cell_type": "markdown",
   "id": "fc938eb1-5497-4fcc-a712-0c7a9125a43a",
   "metadata": {},
   "source": [
    "## Boruta\n",
    "These are the variables with **strong** support when running `perc = 90%`, `lags = 5`, `iterations = 250`"
   ]
  },
  {
   "cell_type": "markdown",
   "id": "dc6c7d9c-7e7e-4aac-b89f-98d512e1dcc1",
   "metadata": {},
   "source": [
    "DGS10_Lag: ['5']\n",
    "\n",
    "BAMLC0A4CBBB_Lag: ['5']\n",
    "\n",
    "BAMLC0A1CAAA_Lag: ['5', '4', '3', '2', '1']\n",
    "\n",
    "BAMLC0A1CAAAEY_Lag: ['5', '3']\n",
    "\n",
    "BAMLC0A0CM_Lag: ['5']\n",
    "\n",
    "T10YIE_Lag: ['5']\n",
    "\n",
    "DCOILWTICO_R_Lag: ['5']\n",
    "\n",
    "ST_Rev_Lag: ['5', '2', '1']\n",
    "\n",
    "RSI_5_Lag: ['5']\n",
    "\n",
    "BOLUP_10_Lag: ['5', '3', '1']\n",
    "\n",
    "USEPUINDXD_Lag: ['4', '3', '2']\n",
    "\n",
    "VIX_Lag: ['3', '2', '1']\n",
    "\n",
    "BAA10Y_Lag: ['3']\n",
    "\n",
    "BOLUP_5_Lag: ['3', '2', '1']\n",
    "\n",
    "ADX_10_Lag: ['3']\n",
    "\n",
    "BAMLC0A4CBBBEY_Lag: ['2']\n",
    "\n",
    "BAMLC0A0CMEY_Lag: ['2', '1']\n",
    "\n",
    "EFFR_Lag: ['2', '1']\n",
    "\n",
    "Mkt-RF_Lag: ['2']\n",
    "\n",
    "Bearish_Lag: ['2']\n",
    "\n",
    "MOM_10_Lag: ['2', '1']\n",
    "\n",
    "DFII10_Lag: ['1']\n",
    "\n",
    "MA_5_Lag: ['1']\n",
    "\n",
    "EMA_5_Lag: ['1']\n",
    "\n",
    "EMA_10_Lag: ['1']\n",
    "\n",
    "RSI_10_Lag: ['1']\n",
    "\n",
    "BOLDOWN_5_Lag: ['1']"
   ]
  },
  {
   "cell_type": "markdown",
   "id": "b27a41ae-3dbf-4cd2-9e92-70575db21b8a",
   "metadata": {},
   "source": [
    "## Elastic net\n",
    "\n",
    "These are the coefficients when fitting elastic net on 70% of the first data with **parameters**\n",
    "\n",
    "    alpha: 0.0001, l1_ratio: 0.9\n",
    "\n",
    "The resulting **scores** were:\n",
    "___\n",
    "mse\n",
    "0.0003992635\n",
    "___\n",
    "mae\n",
    "0.013167706\n",
    "___\n",
    "mape\n",
    "0.19080332\n",
    "___\n",
    "r2\n",
    "0.8525073831083467\n",
    "___"
   ]
  },
  {
   "cell_type": "markdown",
   "id": "e9d6666d-b614-4007-a2c7-673674b5c198",
   "metadata": {},
   "source": [
    "| Variable | Coefficient |\n",
    "|----------|-------------|\n",
    "T10Y3M_Lag_5|          0.004809\n",
    "USEPUINDXD_Lag_5|     0.002553\n",
    "DFII10_Lag_5|     0.006576\n",
    "USEPUINDXD_Lag_4  |    0.015187\n",
    "ADX_5_Lag_3        |  -0.002508\n",
    "ADX_10_Lag_3        | -0.000707\n",
    "WLEMUINDXD_Lag_2  |    0.004275\n",
    "SMB_Lag_2 |            -0.005298\n",
    "MOM_10_Lag_2    |      0.005568\n",
    "RSI_5_Lag_2   |           0.001127\n",
    "BOLUP_10_Lag_2      |  0.093326\n",
    "VIX_Lag_1     |        0.710970\n",
    "BAMLC0A1CAAA_Lag_1 |   0.005200\n",
    "BAMLC0A0CM_Lag_1  |    0.021990\n",
    "SMB_Lag_1      |      -0.010769\n",
    "ST_Rev_Lag_1  |       -0.007789\n",
    "Neutral_Lag_1   |     -0.000003\n",
    "Bearish_Lag_1  |       0.000609\n",
    "MA_5_Lag_1      |      0.045531\n",
    "MA_10_Lag_1    |       0.024674\n",
    "EMA_5_Lag_1    |       0.029454\n",
    "RSI_5_Lag_1    |       0.007615\n",
    "RSI_10_Lag_1    |      0.002764\n",
    "BOLDOWN_5_Lag_1  |     0.005174"
   ]
  },
  {
   "cell_type": "markdown",
   "id": "8d1110f5-6854-454a-a41b-81749a236e2d",
   "metadata": {},
   "source": [
    "Without table"
   ]
  },
  {
   "cell_type": "markdown",
   "id": "01b2bcdf-0886-45ba-8f8a-c64419df44bc",
   "metadata": {
    "jupyter": {
     "source_hidden": true
    },
    "tags": []
   },
   "source": [
    "T10Y3M_Lag_5          0.004809\n",
    "USEPUINDXD_Lag_5      0.002553\n",
    "DFII10_Lag_5          0.006576\n",
    "USEPUINDXD_Lag_4      0.015187\n",
    "ADX_5_Lag_3          -0.002508\n",
    "ADX_10_Lag_3         -0.000707\n",
    "WLEMUINDXD_Lag_2      0.004275\n",
    "SMB_Lag_2            -0.005298\n",
    "MOM_10_Lag_2          0.005568\n",
    "RSI_5_Lag_2           0.001127\n",
    "BOLUP_10_Lag_2        0.093326\n",
    "VIX_Lag_1             0.710970\n",
    "BAMLC0A1CAAA_Lag_1    0.005200\n",
    "BAMLC0A0CM_Lag_1      0.021990\n",
    "SMB_Lag_1            -0.010769\n",
    "ST_Rev_Lag_1         -0.007789\n",
    "Neutral_Lag_1        -0.000003\n",
    "Bearish_Lag_1         0.000609\n",
    "MA_5_Lag_1            0.045531\n",
    "MA_10_Lag_1           0.024674\n",
    "EMA_5_Lag_1           0.029454\n",
    "RSI_5_Lag_1           0.007615\n",
    "RSI_10_Lag_1          0.002764\n",
    "BOLDOWN_5_Lag_1       0.005174"
   ]
  },
  {
   "cell_type": "markdown",
   "id": "c18fba71-7ff5-4e98-a856-25903e4fb327",
   "metadata": {},
   "source": [
    "# Combining features"
   ]
  },
  {
   "cell_type": "code",
   "execution_count": null,
   "id": "8d491d2a-dbad-4fdc-8f72-f93c009e2c8c",
   "metadata": {},
   "outputs": [],
   "source": []
  }
 ],
 "metadata": {
  "kernelspec": {
   "display_name": "master-venv",
   "language": "python",
   "name": "master-venv"
  },
  "language_info": {
   "codemirror_mode": {
    "name": "ipython",
    "version": 3
   },
   "file_extension": ".py",
   "mimetype": "text/x-python",
   "name": "python",
   "nbconvert_exporter": "python",
   "pygments_lexer": "ipython3",
   "version": "3.10.11"
  }
 },
 "nbformat": 4,
 "nbformat_minor": 5
}
