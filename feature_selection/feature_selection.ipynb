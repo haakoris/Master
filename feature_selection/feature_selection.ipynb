{
 "cells": [
  {
   "attachments": {},
   "cell_type": "markdown",
   "metadata": {},
   "source": [
    "[Boruta Algorithm Explained](https://towardsdatascience.com/boruta-explained-the-way-i-wish-someone-explained-it-to-me-4489d70e154a)\n",
    "\n",
    "[Boruta implementation](https://towardsdatascience.com/feature-selection-with-boruta-in-python-676e3877e596)\n",
    "\n",
    "[Feature Selection with Boruta package](https://www.datacamp.com/tutorial/feature-selection-R-boruta)"
   ]
  },
  {
   "cell_type": "code",
   "execution_count": 57,
   "metadata": {},
   "outputs": [],
   "source": [
    "import numpy as np\n",
    "import pandas as pd\n",
    "import sys\n",
    "sys.path.insert(0, '/Users/eliassovikgunnarsson/Master/windowing_and_cv')\n",
    "from window_generator import WindowGenerator"
   ]
  },
  {
   "cell_type": "code",
   "execution_count": 58,
   "metadata": {},
   "outputs": [
    {
     "data": {
      "text/html": [
       "<div>\n",
       "<style scoped>\n",
       "    .dataframe tbody tr th:only-of-type {\n",
       "        vertical-align: middle;\n",
       "    }\n",
       "\n",
       "    .dataframe tbody tr th {\n",
       "        vertical-align: top;\n",
       "    }\n",
       "\n",
       "    .dataframe thead th {\n",
       "        text-align: right;\n",
       "    }\n",
       "</style>\n",
       "<table border=\"1\" class=\"dataframe\">\n",
       "  <thead>\n",
       "    <tr style=\"text-align: right;\">\n",
       "      <th></th>\n",
       "      <th>VIX</th>\n",
       "      <th>US_EPU</th>\n",
       "      <th>DFF</th>\n",
       "      <th>DPRIME</th>\n",
       "      <th>DAAA</th>\n",
       "      <th>DBAA</th>\n",
       "      <th>T10Y3M</th>\n",
       "      <th>UNRATE</th>\n",
       "      <th>CPIAUCSL</th>\n",
       "      <th>PSAVERT</th>\n",
       "      <th>WTI</th>\n",
       "      <th>BRENT_EU</th>\n",
       "      <th>DEXJPUS</th>\n",
       "      <th>DUMMY</th>\n",
       "    </tr>\n",
       "  </thead>\n",
       "  <tbody>\n",
       "    <tr>\n",
       "      <th>1990-01-02</th>\n",
       "      <td>17.24</td>\n",
       "      <td>169.23</td>\n",
       "      <td>8.54</td>\n",
       "      <td>10.5</td>\n",
       "      <td>8.87</td>\n",
       "      <td>9.85</td>\n",
       "      <td>0.11</td>\n",
       "      <td>5.4</td>\n",
       "      <td>127.5</td>\n",
       "      <td>8.0</td>\n",
       "      <td>22.88</td>\n",
       "      <td>21.20</td>\n",
       "      <td>146.25</td>\n",
       "      <td>0</td>\n",
       "    </tr>\n",
       "    <tr>\n",
       "      <th>1990-01-03</th>\n",
       "      <td>18.19</td>\n",
       "      <td>59.10</td>\n",
       "      <td>8.37</td>\n",
       "      <td>10.5</td>\n",
       "      <td>8.90</td>\n",
       "      <td>9.86</td>\n",
       "      <td>0.10</td>\n",
       "      <td>5.4</td>\n",
       "      <td>127.5</td>\n",
       "      <td>8.0</td>\n",
       "      <td>23.81</td>\n",
       "      <td>22.65</td>\n",
       "      <td>145.70</td>\n",
       "      <td>1</td>\n",
       "    </tr>\n",
       "    <tr>\n",
       "      <th>1990-01-04</th>\n",
       "      <td>19.22</td>\n",
       "      <td>76.38</td>\n",
       "      <td>8.29</td>\n",
       "      <td>10.5</td>\n",
       "      <td>8.89</td>\n",
       "      <td>9.84</td>\n",
       "      <td>0.14</td>\n",
       "      <td>5.4</td>\n",
       "      <td>127.5</td>\n",
       "      <td>8.0</td>\n",
       "      <td>23.41</td>\n",
       "      <td>22.50</td>\n",
       "      <td>143.37</td>\n",
       "      <td>2</td>\n",
       "    </tr>\n",
       "    <tr>\n",
       "      <th>1990-01-05</th>\n",
       "      <td>20.11</td>\n",
       "      <td>57.82</td>\n",
       "      <td>8.20</td>\n",
       "      <td>10.5</td>\n",
       "      <td>8.88</td>\n",
       "      <td>9.88</td>\n",
       "      <td>0.20</td>\n",
       "      <td>5.4</td>\n",
       "      <td>127.5</td>\n",
       "      <td>8.0</td>\n",
       "      <td>23.07</td>\n",
       "      <td>23.13</td>\n",
       "      <td>143.82</td>\n",
       "      <td>3</td>\n",
       "    </tr>\n",
       "    <tr>\n",
       "      <th>1990-01-06</th>\n",
       "      <td>20.11</td>\n",
       "      <td>218.48</td>\n",
       "      <td>8.20</td>\n",
       "      <td>10.5</td>\n",
       "      <td>8.88</td>\n",
       "      <td>9.88</td>\n",
       "      <td>0.20</td>\n",
       "      <td>5.4</td>\n",
       "      <td>127.5</td>\n",
       "      <td>8.0</td>\n",
       "      <td>23.07</td>\n",
       "      <td>23.13</td>\n",
       "      <td>143.82</td>\n",
       "      <td>4</td>\n",
       "    </tr>\n",
       "  </tbody>\n",
       "</table>\n",
       "</div>"
      ],
      "text/plain": [
       "              VIX  US_EPU   DFF  DPRIME  DAAA  DBAA  T10Y3M  UNRATE  CPIAUCSL  \\\n",
       "1990-01-02  17.24  169.23  8.54    10.5  8.87  9.85    0.11     5.4     127.5   \n",
       "1990-01-03  18.19   59.10  8.37    10.5  8.90  9.86    0.10     5.4     127.5   \n",
       "1990-01-04  19.22   76.38  8.29    10.5  8.89  9.84    0.14     5.4     127.5   \n",
       "1990-01-05  20.11   57.82  8.20    10.5  8.88  9.88    0.20     5.4     127.5   \n",
       "1990-01-06  20.11  218.48  8.20    10.5  8.88  9.88    0.20     5.4     127.5   \n",
       "\n",
       "            PSAVERT    WTI  BRENT_EU  DEXJPUS  DUMMY  \n",
       "1990-01-02      8.0  22.88     21.20   146.25      0  \n",
       "1990-01-03      8.0  23.81     22.65   145.70      1  \n",
       "1990-01-04      8.0  23.41     22.50   143.37      2  \n",
       "1990-01-05      8.0  23.07     23.13   143.82      3  \n",
       "1990-01-06      8.0  23.07     23.13   143.82      4  "
      ]
     },
     "execution_count": 58,
     "metadata": {},
     "output_type": "execute_result"
    }
   ],
   "source": [
    "df = pd.read_csv('features.csv', index_col=0)\n",
    "df.head()"
   ]
  },
  {
   "cell_type": "code",
   "execution_count": 59,
   "metadata": {},
   "outputs": [],
   "source": [
    "column_indices = {name: i for i, name in enumerate(df.columns)}\n",
    "\n",
    "n = len(df)\n",
    "train_df = df[0:int(n*0.7)]\n",
    "val_df = df[int(n*0.7):int(n*0.9)]\n",
    "test_df = df[int(n*0.9):]\n",
    "\n",
    "num_features = df.shape[1]"
   ]
  },
  {
   "cell_type": "code",
   "execution_count": 60,
   "metadata": {},
   "outputs": [
    {
     "data": {
      "text/plain": [
       "Total window size: 4\n",
       "Input indices: [0 1 2]\n",
       "Label indices: [3]\n",
       "Label column name(s): ['VIX']"
      ]
     },
     "execution_count": 60,
     "metadata": {},
     "output_type": "execute_result"
    }
   ],
   "source": [
    "w = WindowGenerator(input_width=3, label_width=1, shift=1, label_columns=['VIX'], train_df=train_df, val_df=val_df, test_df=test_df)\n",
    "w"
   ]
  },
  {
   "cell_type": "code",
   "execution_count": 61,
   "metadata": {},
   "outputs": [],
   "source": [
    "train = w.train\n",
    "\n",
    "x_train = np.concatenate([x for x, y in train], axis = 0)\n",
    "y_train = np.concatenate([y for x, y in train], axis = 0)\n"
   ]
  },
  {
   "cell_type": "code",
   "execution_count": 62,
   "metadata": {},
   "outputs": [
    {
     "data": {
      "text/plain": [
       "(8508, 3, 14)"
      ]
     },
     "execution_count": 62,
     "metadata": {},
     "output_type": "execute_result"
    }
   ],
   "source": [
    "x_train.shape"
   ]
  },
  {
   "cell_type": "code",
   "execution_count": 63,
   "metadata": {},
   "outputs": [
    {
     "data": {
      "text/plain": [
       "array([1.7240e+01, 1.6923e+02, 8.5400e+00, 1.0500e+01, 8.8700e+00,\n",
       "       9.8500e+00, 1.1000e-01, 5.4000e+00, 1.2750e+02, 8.0000e+00,\n",
       "       2.2880e+01, 2.1200e+01, 1.4625e+02, 0.0000e+00, 1.8190e+01,\n",
       "       5.9100e+01, 8.3700e+00, 1.0500e+01, 8.9000e+00, 9.8600e+00,\n",
       "       1.0000e-01, 5.4000e+00, 1.2750e+02, 8.0000e+00, 2.3810e+01,\n",
       "       2.2650e+01, 1.4570e+02, 1.0000e+00, 1.9220e+01, 7.6380e+01,\n",
       "       8.2900e+00, 1.0500e+01, 8.8900e+00, 9.8400e+00, 1.4000e-01,\n",
       "       5.4000e+00, 1.2750e+02, 8.0000e+00, 2.3410e+01, 2.2500e+01,\n",
       "       1.4337e+02, 2.0000e+00], dtype=float32)"
      ]
     },
     "execution_count": 63,
     "metadata": {},
     "output_type": "execute_result"
    }
   ],
   "source": [
    "x_train = x_train.reshape((len(x_train), -1))\n",
    "x_train[0]"
   ]
  },
  {
   "cell_type": "code",
   "execution_count": 64,
   "metadata": {},
   "outputs": [
    {
     "data": {
      "text/plain": [
       "(8508,)"
      ]
     },
     "execution_count": 64,
     "metadata": {},
     "output_type": "execute_result"
    }
   ],
   "source": [
    "y_train = y_train.reshape((-1, ))\n",
    "y_train.shape"
   ]
  },
  {
   "attachments": {},
   "cell_type": "markdown",
   "metadata": {},
   "source": [
    "Need to store label indices"
   ]
  },
  {
   "cell_type": "code",
   "execution_count": 65,
   "metadata": {},
   "outputs": [],
   "source": [
    "cols = df.columns\n",
    "flat_cols = []\n",
    "\n",
    "for i in range(w.input_width, 0, -1):\n",
    "    lag = f'_Lag_{i}'\n",
    "    for col in cols:\n",
    "        flat_cols.append(f'{col}{lag}')\n",
    "\n",
    "flat_column_indices = {name: i for i, name in enumerate(flat_cols)}"
   ]
  },
  {
   "cell_type": "code",
   "execution_count": 66,
   "metadata": {},
   "outputs": [
    {
     "data": {
      "text/plain": [
       "{'VIX_Lag_3': 0,\n",
       " 'US_EPU_Lag_3': 1,\n",
       " 'DFF_Lag_3': 2,\n",
       " 'DPRIME_Lag_3': 3,\n",
       " 'DAAA_Lag_3': 4,\n",
       " 'DBAA_Lag_3': 5,\n",
       " 'T10Y3M_Lag_3': 6,\n",
       " 'UNRATE_Lag_3': 7,\n",
       " 'CPIAUCSL_Lag_3': 8,\n",
       " 'PSAVERT_Lag_3': 9,\n",
       " 'WTI_Lag_3': 10,\n",
       " 'BRENT_EU_Lag_3': 11,\n",
       " 'DEXJPUS_Lag_3': 12,\n",
       " 'DUMMY_Lag_3': 13,\n",
       " 'VIX_Lag_2': 14,\n",
       " 'US_EPU_Lag_2': 15,\n",
       " 'DFF_Lag_2': 16,\n",
       " 'DPRIME_Lag_2': 17,\n",
       " 'DAAA_Lag_2': 18,\n",
       " 'DBAA_Lag_2': 19,\n",
       " 'T10Y3M_Lag_2': 20,\n",
       " 'UNRATE_Lag_2': 21,\n",
       " 'CPIAUCSL_Lag_2': 22,\n",
       " 'PSAVERT_Lag_2': 23,\n",
       " 'WTI_Lag_2': 24,\n",
       " 'BRENT_EU_Lag_2': 25,\n",
       " 'DEXJPUS_Lag_2': 26,\n",
       " 'DUMMY_Lag_2': 27,\n",
       " 'VIX_Lag_1': 28,\n",
       " 'US_EPU_Lag_1': 29,\n",
       " 'DFF_Lag_1': 30,\n",
       " 'DPRIME_Lag_1': 31,\n",
       " 'DAAA_Lag_1': 32,\n",
       " 'DBAA_Lag_1': 33,\n",
       " 'T10Y3M_Lag_1': 34,\n",
       " 'UNRATE_Lag_1': 35,\n",
       " 'CPIAUCSL_Lag_1': 36,\n",
       " 'PSAVERT_Lag_1': 37,\n",
       " 'WTI_Lag_1': 38,\n",
       " 'BRENT_EU_Lag_1': 39,\n",
       " 'DEXJPUS_Lag_1': 40,\n",
       " 'DUMMY_Lag_1': 41}"
      ]
     },
     "execution_count": 66,
     "metadata": {},
     "output_type": "execute_result"
    }
   ],
   "source": [
    "flat_column_indices"
   ]
  },
  {
   "cell_type": "code",
   "execution_count": 67,
   "metadata": {},
   "outputs": [],
   "source": [
    "from sklearn.ensemble import RandomForestRegressor\n",
    "from boruta import BorutaPy"
   ]
  },
  {
   "attachments": {},
   "cell_type": "markdown",
   "metadata": {},
   "source": [
    "let's initialize a RF model "
   ]
  },
  {
   "cell_type": "code",
   "execution_count": 68,
   "metadata": {},
   "outputs": [],
   "source": [
    "model = RandomForestRegressor(n_estimators=250, max_depth=10, random_state=42)"
   ]
  },
  {
   "attachments": {},
   "cell_type": "markdown",
   "metadata": {},
   "source": [
    "let's initialize Boruta"
   ]
  },
  {
   "cell_type": "code",
   "execution_count": 69,
   "metadata": {},
   "outputs": [],
   "source": [
    "feat_selector = BorutaPy(\n",
    "    verbose=2,\n",
    "    estimator=model,\n",
    "    n_estimators='auto',\n",
    "    max_iter=20  # number of iterations to perform\n",
    ")"
   ]
  },
  {
   "cell_type": "code",
   "execution_count": 70,
   "metadata": {},
   "outputs": [
    {
     "name": "stdout",
     "output_type": "stream",
     "text": [
      "Iteration: \t1 / 20\n",
      "Confirmed: \t0\n",
      "Tentative: \t42\n",
      "Rejected: \t0\n",
      "Iteration: \t2 / 20\n",
      "Confirmed: \t0\n",
      "Tentative: \t42\n",
      "Rejected: \t0\n",
      "Iteration: \t3 / 20\n",
      "Confirmed: \t0\n",
      "Tentative: \t42\n",
      "Rejected: \t0\n",
      "Iteration: \t4 / 20\n",
      "Confirmed: \t0\n",
      "Tentative: \t42\n",
      "Rejected: \t0\n",
      "Iteration: \t5 / 20\n",
      "Confirmed: \t0\n",
      "Tentative: \t42\n",
      "Rejected: \t0\n",
      "Iteration: \t6 / 20\n",
      "Confirmed: \t0\n",
      "Tentative: \t42\n",
      "Rejected: \t0\n",
      "Iteration: \t7 / 20\n",
      "Confirmed: \t0\n",
      "Tentative: \t42\n",
      "Rejected: \t0\n",
      "Iteration: \t8 / 20\n",
      "Confirmed: \t4\n",
      "Tentative: \t1\n",
      "Rejected: \t37\n",
      "Iteration: \t9 / 20\n",
      "Confirmed: \t4\n",
      "Tentative: \t1\n",
      "Rejected: \t37\n",
      "Iteration: \t10 / 20\n",
      "Confirmed: \t4\n",
      "Tentative: \t1\n",
      "Rejected: \t37\n",
      "Iteration: \t11 / 20\n",
      "Confirmed: \t4\n",
      "Tentative: \t1\n",
      "Rejected: \t37\n",
      "Iteration: \t12 / 20\n",
      "Confirmed: \t4\n",
      "Tentative: \t1\n",
      "Rejected: \t37\n",
      "Iteration: \t13 / 20\n",
      "Confirmed: \t4\n",
      "Tentative: \t1\n",
      "Rejected: \t37\n",
      "Iteration: \t14 / 20\n",
      "Confirmed: \t4\n",
      "Tentative: \t1\n",
      "Rejected: \t37\n",
      "Iteration: \t15 / 20\n",
      "Confirmed: \t4\n",
      "Tentative: \t1\n",
      "Rejected: \t37\n",
      "Iteration: \t16 / 20\n",
      "Confirmed: \t4\n",
      "Tentative: \t1\n",
      "Rejected: \t37\n",
      "Iteration: \t17 / 20\n",
      "Confirmed: \t4\n",
      "Tentative: \t1\n",
      "Rejected: \t37\n",
      "Iteration: \t18 / 20\n",
      "Confirmed: \t4\n",
      "Tentative: \t1\n",
      "Rejected: \t37\n",
      "Iteration: \t19 / 20\n",
      "Confirmed: \t4\n",
      "Tentative: \t0\n",
      "Rejected: \t38\n",
      "\n",
      "\n",
      "BorutaPy finished running.\n",
      "\n",
      "Iteration: \t20 / 20\n",
      "Confirmed: \t4\n",
      "Tentative: \t0\n",
      "Rejected: \t38\n"
     ]
    },
    {
     "data": {
      "text/html": [
       "<style>#sk-container-id-5 {color: black;background-color: white;}#sk-container-id-5 pre{padding: 0;}#sk-container-id-5 div.sk-toggleable {background-color: white;}#sk-container-id-5 label.sk-toggleable__label {cursor: pointer;display: block;width: 100%;margin-bottom: 0;padding: 0.3em;box-sizing: border-box;text-align: center;}#sk-container-id-5 label.sk-toggleable__label-arrow:before {content: \"▸\";float: left;margin-right: 0.25em;color: #696969;}#sk-container-id-5 label.sk-toggleable__label-arrow:hover:before {color: black;}#sk-container-id-5 div.sk-estimator:hover label.sk-toggleable__label-arrow:before {color: black;}#sk-container-id-5 div.sk-toggleable__content {max-height: 0;max-width: 0;overflow: hidden;text-align: left;background-color: #f0f8ff;}#sk-container-id-5 div.sk-toggleable__content pre {margin: 0.2em;color: black;border-radius: 0.25em;background-color: #f0f8ff;}#sk-container-id-5 input.sk-toggleable__control:checked~div.sk-toggleable__content {max-height: 200px;max-width: 100%;overflow: auto;}#sk-container-id-5 input.sk-toggleable__control:checked~label.sk-toggleable__label-arrow:before {content: \"▾\";}#sk-container-id-5 div.sk-estimator input.sk-toggleable__control:checked~label.sk-toggleable__label {background-color: #d4ebff;}#sk-container-id-5 div.sk-label input.sk-toggleable__control:checked~label.sk-toggleable__label {background-color: #d4ebff;}#sk-container-id-5 input.sk-hidden--visually {border: 0;clip: rect(1px 1px 1px 1px);clip: rect(1px, 1px, 1px, 1px);height: 1px;margin: -1px;overflow: hidden;padding: 0;position: absolute;width: 1px;}#sk-container-id-5 div.sk-estimator {font-family: monospace;background-color: #f0f8ff;border: 1px dotted black;border-radius: 0.25em;box-sizing: border-box;margin-bottom: 0.5em;}#sk-container-id-5 div.sk-estimator:hover {background-color: #d4ebff;}#sk-container-id-5 div.sk-parallel-item::after {content: \"\";width: 100%;border-bottom: 1px solid gray;flex-grow: 1;}#sk-container-id-5 div.sk-label:hover label.sk-toggleable__label {background-color: #d4ebff;}#sk-container-id-5 div.sk-serial::before {content: \"\";position: absolute;border-left: 1px solid gray;box-sizing: border-box;top: 0;bottom: 0;left: 50%;z-index: 0;}#sk-container-id-5 div.sk-serial {display: flex;flex-direction: column;align-items: center;background-color: white;padding-right: 0.2em;padding-left: 0.2em;position: relative;}#sk-container-id-5 div.sk-item {position: relative;z-index: 1;}#sk-container-id-5 div.sk-parallel {display: flex;align-items: stretch;justify-content: center;background-color: white;position: relative;}#sk-container-id-5 div.sk-item::before, #sk-container-id-5 div.sk-parallel-item::before {content: \"\";position: absolute;border-left: 1px solid gray;box-sizing: border-box;top: 0;bottom: 0;left: 50%;z-index: -1;}#sk-container-id-5 div.sk-parallel-item {display: flex;flex-direction: column;z-index: 1;position: relative;background-color: white;}#sk-container-id-5 div.sk-parallel-item:first-child::after {align-self: flex-end;width: 50%;}#sk-container-id-5 div.sk-parallel-item:last-child::after {align-self: flex-start;width: 50%;}#sk-container-id-5 div.sk-parallel-item:only-child::after {width: 0;}#sk-container-id-5 div.sk-dashed-wrapped {border: 1px dashed gray;margin: 0 0.4em 0.5em 0.4em;box-sizing: border-box;padding-bottom: 0.4em;background-color: white;}#sk-container-id-5 div.sk-label label {font-family: monospace;font-weight: bold;display: inline-block;line-height: 1.2em;}#sk-container-id-5 div.sk-label-container {text-align: center;}#sk-container-id-5 div.sk-container {/* jupyter's `normalize.less` sets `[hidden] { display: none; }` but bootstrap.min.css set `[hidden] { display: none !important; }` so we also need the `!important` here to be able to override the default hidden behavior on the sphinx rendered scikit-learn.org. See: https://github.com/scikit-learn/scikit-learn/issues/21755 */display: inline-block !important;position: relative;}#sk-container-id-5 div.sk-text-repr-fallback {display: none;}</style><div id=\"sk-container-id-5\" class=\"sk-top-container\"><div class=\"sk-text-repr-fallback\"><pre>BorutaPy(estimator=RandomForestRegressor(max_depth=10, n_estimators=31,\n",
       "                                         random_state=RandomState(MT19937) at 0x109E2C740),\n",
       "         max_iter=20, n_estimators=&#x27;auto&#x27;,\n",
       "         random_state=RandomState(MT19937) at 0x109E2C740, verbose=2)</pre><b>In a Jupyter environment, please rerun this cell to show the HTML representation or trust the notebook. <br />On GitHub, the HTML representation is unable to render, please try loading this page with nbviewer.org.</b></div><div class=\"sk-container\" hidden><div class=\"sk-item sk-dashed-wrapped\"><div class=\"sk-label-container\"><div class=\"sk-label sk-toggleable\"><input class=\"sk-toggleable__control sk-hidden--visually\" id=\"sk-estimator-id-13\" type=\"checkbox\" ><label for=\"sk-estimator-id-13\" class=\"sk-toggleable__label sk-toggleable__label-arrow\">BorutaPy</label><div class=\"sk-toggleable__content\"><pre>BorutaPy(estimator=RandomForestRegressor(max_depth=10, n_estimators=31,\n",
       "                                         random_state=RandomState(MT19937) at 0x109E2C740),\n",
       "         max_iter=20, n_estimators=&#x27;auto&#x27;,\n",
       "         random_state=RandomState(MT19937) at 0x109E2C740, verbose=2)</pre></div></div></div><div class=\"sk-parallel\"><div class=\"sk-parallel-item\"><div class=\"sk-item\"><div class=\"sk-label-container\"><div class=\"sk-label sk-toggleable\"><input class=\"sk-toggleable__control sk-hidden--visually\" id=\"sk-estimator-id-14\" type=\"checkbox\" ><label for=\"sk-estimator-id-14\" class=\"sk-toggleable__label sk-toggleable__label-arrow\">estimator: RandomForestRegressor</label><div class=\"sk-toggleable__content\"><pre>RandomForestRegressor(max_depth=10, n_estimators=31,\n",
       "                      random_state=RandomState(MT19937) at 0x109E2C740)</pre></div></div></div><div class=\"sk-serial\"><div class=\"sk-item\"><div class=\"sk-estimator sk-toggleable\"><input class=\"sk-toggleable__control sk-hidden--visually\" id=\"sk-estimator-id-15\" type=\"checkbox\" ><label for=\"sk-estimator-id-15\" class=\"sk-toggleable__label sk-toggleable__label-arrow\">RandomForestRegressor</label><div class=\"sk-toggleable__content\"><pre>RandomForestRegressor(max_depth=10, n_estimators=31,\n",
       "                      random_state=RandomState(MT19937) at 0x109E2C740)</pre></div></div></div></div></div></div></div></div></div></div>"
      ],
      "text/plain": [
       "BorutaPy(estimator=RandomForestRegressor(max_depth=10, n_estimators=31,\n",
       "                                         random_state=RandomState(MT19937) at 0x109E2C740),\n",
       "         max_iter=20, n_estimators='auto',\n",
       "         random_state=RandomState(MT19937) at 0x109E2C740, verbose=2)"
      ]
     },
     "execution_count": 70,
     "metadata": {},
     "output_type": "execute_result"
    }
   ],
   "source": [
    "feat_selector.fit(x_train, y_train)"
   ]
  },
  {
   "cell_type": "code",
   "execution_count": 71,
   "metadata": {},
   "outputs": [
    {
     "name": "stdout",
     "output_type": "stream",
     "text": [
      "\n",
      "------Support and Ranking for each feature------\n",
      "Passes the test:  VIX_Lag_3  - Ranking:  1\n",
      "Doesn't pass the test:  US_EPU_Lag_3  - Ranking:  14\n",
      "Doesn't pass the test:  DFF_Lag_3  - Ranking:  12\n",
      "Doesn't pass the test:  DPRIME_Lag_3  - Ranking:  37\n",
      "Doesn't pass the test:  DAAA_Lag_3  - Ranking:  17\n",
      "Doesn't pass the test:  DBAA_Lag_3  - Ranking:  21\n",
      "Doesn't pass the test:  T10Y3M_Lag_3  - Ranking:  5\n",
      "Doesn't pass the test:  UNRATE_Lag_3  - Ranking:  31\n",
      "Doesn't pass the test:  CPIAUCSL_Lag_3  - Ranking:  35\n",
      "Doesn't pass the test:  PSAVERT_Lag_3  - Ranking:  18\n",
      "Doesn't pass the test:  WTI_Lag_3  - Ranking:  15\n",
      "Doesn't pass the test:  BRENT_EU_Lag_3  - Ranking:  27\n",
      "Doesn't pass the test:  DEXJPUS_Lag_3  - Ranking:  6\n",
      "Doesn't pass the test:  DUMMY_Lag_3  - Ranking:  24\n",
      "Passes the test:  VIX_Lag_2  - Ranking:  1\n",
      "Doesn't pass the test:  US_EPU_Lag_2  - Ranking:  3\n",
      "Doesn't pass the test:  DFF_Lag_2  - Ranking:  11\n",
      "Doesn't pass the test:  DPRIME_Lag_2  - Ranking:  39\n",
      "Doesn't pass the test:  DAAA_Lag_2  - Ranking:  24\n",
      "Doesn't pass the test:  DBAA_Lag_2  - Ranking:  2\n",
      "Doesn't pass the test:  T10Y3M_Lag_2  - Ranking:  12\n",
      "Doesn't pass the test:  UNRATE_Lag_2  - Ranking:  33\n",
      "Doesn't pass the test:  CPIAUCSL_Lag_2  - Ranking:  36\n",
      "Doesn't pass the test:  PSAVERT_Lag_2  - Ranking:  24\n",
      "Doesn't pass the test:  WTI_Lag_2  - Ranking:  29\n",
      "Doesn't pass the test:  BRENT_EU_Lag_2  - Ranking:  30\n",
      "Doesn't pass the test:  DEXJPUS_Lag_2  - Ranking:  15\n",
      "Doesn't pass the test:  DUMMY_Lag_2  - Ranking:  18\n",
      "Passes the test:  VIX_Lag_1  - Ranking:  1\n",
      "Doesn't pass the test:  US_EPU_Lag_1  - Ranking:  4\n",
      "Doesn't pass the test:  DFF_Lag_1  - Ranking:  7\n",
      "Doesn't pass the test:  DPRIME_Lag_1  - Ranking:  37\n",
      "Doesn't pass the test:  DAAA_Lag_1  - Ranking:  8\n",
      "Passes the test:  DBAA_Lag_1  - Ranking:  1\n",
      "Doesn't pass the test:  T10Y3M_Lag_1  - Ranking:  10\n",
      "Doesn't pass the test:  UNRATE_Lag_1  - Ranking:  31\n",
      "Doesn't pass the test:  CPIAUCSL_Lag_1  - Ranking:  34\n",
      "Doesn't pass the test:  PSAVERT_Lag_1  - Ranking:  26\n",
      "Doesn't pass the test:  WTI_Lag_1  - Ranking:  28\n",
      "Doesn't pass the test:  BRENT_EU_Lag_1  - Ranking:  20\n",
      "Doesn't pass the test:  DEXJPUS_Lag_1  - Ranking:  9\n",
      "Doesn't pass the test:  DUMMY_Lag_1  - Ranking:  22\n"
     ]
    }
   ],
   "source": [
    "# print support and ranking for each feature\n",
    "print(\"\\n------Support and Ranking for each feature------\")\n",
    "for i in range(len(feat_selector.support_)):\n",
    "    if feat_selector.support_[i]:\n",
    "        print(\"Passes the test: \", flat_cols[i],\n",
    "              \" - Ranking: \", feat_selector.ranking_[i])\n",
    "    else:\n",
    "        print(\"Doesn't pass the test: \",\n",
    "              flat_cols[i], \" - Ranking: \", feat_selector.ranking_[i])"
   ]
  },
  {
   "cell_type": "code",
   "execution_count": 72,
   "metadata": {},
   "outputs": [
    {
     "data": {
      "text/plain": [
       "array([ 1, 14, 12, 37, 17, 21,  5, 31, 35, 18, 15, 27,  6, 24,  1,  3, 11,\n",
       "       39, 24,  2, 12, 33, 36, 24, 29, 30, 15, 18,  1,  4,  7, 37,  8,  1,\n",
       "       10, 31, 34, 26, 28, 20,  9, 22])"
      ]
     },
     "execution_count": 72,
     "metadata": {},
     "output_type": "execute_result"
    }
   ],
   "source": [
    "feat_selector.ranking_"
   ]
  }
 ],
 "metadata": {
  "kernelspec": {
   "display_name": "tensorrun",
   "language": "python",
   "name": "python3"
  },
  "language_info": {
   "codemirror_mode": {
    "name": "ipython",
    "version": 3
   },
   "file_extension": ".py",
   "mimetype": "text/x-python",
   "name": "python",
   "nbconvert_exporter": "python",
   "pygments_lexer": "ipython3",
   "version": "3.8.16"
  },
  "orig_nbformat": 4
 },
 "nbformat": 4,
 "nbformat_minor": 2
}
