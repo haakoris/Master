{
 "cells": [
  {
   "cell_type": "markdown",
   "id": "a701e0ea-afde-47e6-80b0-959e45968648",
   "metadata": {},
   "source": [
    "# VIX Variational Inference"
   ]
  },
  {
   "cell_type": "markdown",
   "id": "b8929f2e-2ce9-4e97-8f64-e474cc2bb412",
   "metadata": {},
   "source": [
    "## Plan"
   ]
  },
  {
   "cell_type": "markdown",
   "id": "364ba71d-3026-44c7-a94f-0805fc050ef8",
   "metadata": {},
   "source": [
    "### Data and features\n",
    "\n",
    "<b>Input</b>\n",
    "* Daily VIX\n",
    "___\n",
    "<b>Technical indicators</b>\n",
    "* Moving average\n",
    "* High minus low\n",
    "* Momentum\n",
    "* Exponential moving average\n",
    "* Bollinger band (upper and lower)\n",
    "___\n",
    "**Exogenous data**\n",
    "* EPU\n",
    "* Interest rates (?)\n",
    "* Inflation\n",
    "* Unemployment (?)\n",
    "* S&P500\n",
    "___"
   ]
  },
  {
   "cell_type": "markdown",
   "id": "25d48127-4bb0-40f2-9894-9066980502ac",
   "metadata": {},
   "source": [
    "### Preprocessing\n",
    "**Normalization**\n",
    "* Normalize within windows\n",
    "___\n",
    "**Outliers etc.**\n",
    "___\n",
    "**In general**<br>\n",
    "Compare methods used in project papers which utilized neural networks\n",
    "___"
   ]
  },
  {
   "cell_type": "markdown",
   "id": "4013a97e-4183-4e53-924c-ee3ec28a9ad3",
   "metadata": {},
   "source": [
    "### Training and validation\n",
    "**Validation windows**\n",
    "* Walk forward window with sliding window \n",
    "___\n",
    "**Window size**\n",
    "* Check what has been done in previous papers, particularly wrt how predictions are done for multiple steps ahead. E.g. when the model has been trained to do 1-day ahead predictions, how do you predict multiple days ahead?\n",
    "___\n",
    "**Splitting**\n",
    "* Train/validation/test or split train into validation folds, then use validation set for testing, then test on test set?"
   ]
  },
  {
   "cell_type": "markdown",
   "id": "263632b6-eb9a-40bc-b045-b39da501dcfc",
   "metadata": {},
   "source": [
    "### Network architecture\n",
    "**Number of layers (*Depth*)**<br>\n",
    "___\n",
    "**Number of neurons *(Wide)***<br>\n",
    "___\n",
    "**Activation functions**\n",
    "___"
   ]
  },
  {
   "cell_type": "markdown",
   "id": "261af99c-8692-4874-b4cf-507f8f9745fa",
   "metadata": {},
   "source": []
  }
 ],
 "metadata": {
  "kernelspec": {
   "display_name": "master-venv",
   "language": "python",
   "name": "master-venv"
  },
  "language_info": {
   "codemirror_mode": {
    "name": "ipython",
    "version": 3
   },
   "file_extension": ".py",
   "mimetype": "text/x-python",
   "name": "python",
   "nbconvert_exporter": "python",
   "pygments_lexer": "ipython3",
   "version": "3.10.8"
  }
 },
 "nbformat": 4,
 "nbformat_minor": 5
}
