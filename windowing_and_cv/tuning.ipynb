{
 "cells": [
  {
   "cell_type": "code",
   "execution_count": 3,
   "metadata": {},
   "outputs": [
    {
     "ename": "ModuleNotFoundError",
     "evalue": "No module named 'tensorflow'",
     "output_type": "error",
     "traceback": [
      "\u001b[0;31m---------------------------------------------------------------------------\u001b[0m",
      "\u001b[0;31mModuleNotFoundError\u001b[0m                       Traceback (most recent call last)",
      "\u001b[0;32m/var/folders/nh/rykc7t6j5rq5c3w33l4blqj00000gn/T/ipykernel_12185/2960739965.py\u001b[0m in \u001b[0;36m<module>\u001b[0;34m\u001b[0m\n\u001b[0;32m----> 1\u001b[0;31m \u001b[0;32mfrom\u001b[0m \u001b[0mwindow_generator\u001b[0m \u001b[0;32mimport\u001b[0m \u001b[0mWindowGenerator\u001b[0m\u001b[0;34m\u001b[0m\u001b[0;34m\u001b[0m\u001b[0m\n\u001b[0m\u001b[1;32m      2\u001b[0m \u001b[0;32mimport\u001b[0m \u001b[0mnumpy\u001b[0m \u001b[0;32mas\u001b[0m \u001b[0mnp\u001b[0m\u001b[0;34m\u001b[0m\u001b[0;34m\u001b[0m\u001b[0m\n\u001b[1;32m      3\u001b[0m \u001b[0;32mimport\u001b[0m \u001b[0mpandas\u001b[0m \u001b[0;32mas\u001b[0m \u001b[0mpd\u001b[0m\u001b[0;34m\u001b[0m\u001b[0;34m\u001b[0m\u001b[0m\n\u001b[1;32m      4\u001b[0m \u001b[0;32mimport\u001b[0m \u001b[0mkerastuner\u001b[0m \u001b[0;32mas\u001b[0m \u001b[0mkt\u001b[0m\u001b[0;34m\u001b[0m\u001b[0;34m\u001b[0m\u001b[0m\n\u001b[1;32m      5\u001b[0m \u001b[0;32mfrom\u001b[0m \u001b[0mfredapi\u001b[0m \u001b[0;32mimport\u001b[0m \u001b[0mFred\u001b[0m\u001b[0;34m\u001b[0m\u001b[0;34m\u001b[0m\u001b[0m\n",
      "\u001b[0;32m~/Master/windowing_and_cv/window_generator.py\u001b[0m in \u001b[0;36m<module>\u001b[0;34m\u001b[0m\n\u001b[1;32m      1\u001b[0m \u001b[0;32mimport\u001b[0m \u001b[0mnumpy\u001b[0m \u001b[0;32mas\u001b[0m \u001b[0mnp\u001b[0m\u001b[0;34m\u001b[0m\u001b[0;34m\u001b[0m\u001b[0m\n\u001b[1;32m      2\u001b[0m \u001b[0;32mimport\u001b[0m \u001b[0mpandas\u001b[0m \u001b[0;32mas\u001b[0m \u001b[0mpd\u001b[0m\u001b[0;34m\u001b[0m\u001b[0;34m\u001b[0m\u001b[0m\n\u001b[0;32m----> 3\u001b[0;31m \u001b[0;32mimport\u001b[0m \u001b[0mtensorflow\u001b[0m \u001b[0;32mas\u001b[0m \u001b[0mtf\u001b[0m\u001b[0;34m\u001b[0m\u001b[0;34m\u001b[0m\u001b[0m\n\u001b[0m\u001b[1;32m      4\u001b[0m \u001b[0;32mfrom\u001b[0m \u001b[0mtscv_sliding\u001b[0m \u001b[0;32mimport\u001b[0m \u001b[0mTimeSeriesSplitSliding\u001b[0m\u001b[0;34m\u001b[0m\u001b[0;34m\u001b[0m\u001b[0m\n\u001b[1;32m      5\u001b[0m \u001b[0;32mfrom\u001b[0m \u001b[0msklearn\u001b[0m\u001b[0;34m.\u001b[0m\u001b[0mpreprocessing\u001b[0m \u001b[0;32mimport\u001b[0m \u001b[0mStandardScaler\u001b[0m\u001b[0;34m\u001b[0m\u001b[0;34m\u001b[0m\u001b[0m\n",
      "\u001b[0;31mModuleNotFoundError\u001b[0m: No module named 'tensorflow'"
     ]
    }
   ],
   "source": [
    "from window_generator import WindowGenerator\n",
    "import numpy as np\n",
    "import pandas as pd\n",
    "import kerastuner as kt\n",
    "from fredapi import Fred\n",
    "import matplotlib.pyplot as plt\n",
    "from sklearn.preprocessing import RobustScaler\n",
    "\n",
    "import math\n",
    "import keras\n",
    "from sklearn.preprocessing import MinMaxScaler\n",
    "from tensorflow.keras.models import save_model\n",
    "from tensorflow.keras.models import model_from_json\n",
    "from tensorflow.keras.models import Sequential\n",
    "from tensorflow.keras.layers import Dense\n",
    "from tensorflow.keras.layers import LSTM\n",
    "from tensorflow.keras.layers import Dropout\n",
    "from kerastuner.tuners import RandomSearch\n",
    "import tensorflow as tf\n",
    "from kerastuner.engine.hyperparameters import HyperParameters\n",
    "import warnings\n",
    "warnings.simplefilter(\"ignore\", UserWarning)"
   ]
  },
  {
   "cell_type": "code",
   "execution_count": null,
   "metadata": {},
   "outputs": [],
   "source": [
    "raw_df = pd.read_csv(\"../data/feature_selected_data.csv\", index_col=0, parse_dates=[0])"
   ]
  },
  {
   "cell_type": "code",
   "execution_count": null,
   "metadata": {},
   "outputs": [],
   "source": [
    "df = raw_df.iloc[10:].copy()\n",
    "del raw_df"
   ]
  },
  {
   "cell_type": "code",
   "execution_count": null,
   "metadata": {},
   "outputs": [],
   "source": [
    "column_indices = {name: i for i, name in enumerate(df.columns)}\n",
    "n = len(vix)\n",
    "n_train = int(n*0.7)\n",
    "n_val = int(n*0.9)\n",
    "train_df = df[0:n_train]\n",
    "val_df = df[n_train:n_val]\n",
    "test_df = df[n_val:]"
   ]
  },
  {
   "cell_type": "code",
   "execution_count": null,
   "metadata": {},
   "outputs": [],
   "source": [
    "from sklearn.preprocessing import MinMaxScaler\n",
    "input_width = 30\n",
    "\n",
    "w = WindowGenerator(input_width=input_width, \n",
    "                    label_width=1,\n",
    "                    shift=1,\n",
    "                    train_df=train_df,\n",
    "                    val_df=val_df,\n",
    "                    test_df=test_df,\n",
    "                    n_splits=5,\n",
    "                    train_splits=3,\n",
    "                    test_splits=1, \n",
    "                    scaler=MinMaxScaler)"
   ]
  },
  {
   "cell_type": "code",
   "execution_count": null,
   "metadata": {},
   "outputs": [],
   "source": [
    "from tensorflow.keras.models import Sequential\n",
    "from tensorflow.keras.layers import Dense\n",
    "from tensorflow.keras.layers import LSTM\n",
    "from tensorflow.keras.layers import Dropout\n",
    "from tensorflow.keras.optimizers import Adam\n",
    "import tensorflow as tf\n",
    "import kerastuner as kt"
   ]
  },
  {
   "cell_type": "code",
   "execution_count": null,
   "metadata": {},
   "outputs": [],
   "source": [
    "from keras import backend as backend\n",
    "\n",
    "def qlike(y_true, y_pred):\n",
    "  return tf.math.log(y_pred) + (y_true / y_pred)\n",
    "\n",
    "def build_model(hp):\n",
    "    backend.clear_session()\n",
    "    model = Sequential()\n",
    "    model.add(LSTM(hp.Int('input_unit', min_value=32, max_value=256, step=32), return_sequences=True, input_shape=(input_width, 1))) #(timesteps, features)\n",
    "    for i in range(hp.Int('n_layers', 1, 2)):\n",
    "        model.add(LSTM(hp.Int(f'lstm_{i}_units', min_value=32, max_value=256, step=32), return_sequences=True))\n",
    "    model.add(LSTM(hp.Int('layer_2_neurons', min_value=32, max_value=64, step=32)))\n",
    "    model.add(Dropout(hp.Float('Dropout_rate', min_value=0.1, max_value=0.3, step=0.1)))\n",
    "    model.add(Dense(1, activation=\"relu\"))\n",
    "    #model.add(Dense(1, activation=hp.Choice('dense_activation', values=['relu'], default='relu')))\n",
    "    learning_rate = hp.Choice('learning_rate', values=[1e-2, 1e-3, 1e-4])\n",
    "    metrics = [\"mse\", \"mae\", \"mape\", tf.keras.metrics.RootMeanSquaredError(), qlike]\n",
    "    model.compile(loss='mean_squared_error', optimizer=Adam(learning_rate=learning_rate), metrics = metrics)\n",
    "    return model"
   ]
  },
  {
   "cell_type": "markdown",
   "metadata": {},
   "source": [
    "[Bayesian Optimization for hyperparameter search](https://arxiv.org/pdf/1806.10282.pdf)\n",
    "\n",
    "[Keras tuner oracles](https://keras.io/api/keras_tuner/oracles/)\n",
    "\n",
    "[Keras tuner API](https://keras.io/api/keras_tuner/)"
   ]
  },
  {
   "cell_type": "code",
   "execution_count": null,
   "metadata": {},
   "outputs": [],
   "source": [
    "class CVTuner(kt.engine.tuner.Tuner):\n",
    "    def run_trial(self, trial, window, *args, **kwargs):\n",
    "        val_mse_list = []\n",
    "        ###\n",
    "        #batch_size = trial.hyperparameters.Int('batch_size', 8, 64, step=8)\n",
    "        #epochs = trial.hyperparameters.Int('epochs', 10, 100, step=10)\n",
    "\n",
    "        folds = window.np_folds\n",
    "        for x_train, y_train, x_test, y_test in folds:\n",
    "          model = self.hypermodel.build(trial.hyperparameters)\n",
    "          model.fit(x_train, y_train, batch_size=32, epochs=50, validation_data=(x_test, y_test), verbose=0)\n",
    "          val_loss, val_mse, val_mae, val_mape, val_rmse, val_qlike = model.evaluate(x_test, y_test)\n",
    "          val_mse_list.append(val_loss)\n",
    "          #self.save_model(trial.trial_id, model)\n",
    "          del model\n",
    "        del folds\n",
    "        \n",
    "        self.oracle.update_trial(trial.trial_id, {'val_mse': np.mean(val_mse_list),\n",
    "                                                    'val_mse_std': np.std(val_mse_list)})\n"
   ]
  },
  {
   "cell_type": "code",
   "execution_count": null,
   "metadata": {},
   "outputs": [],
   "source": [
    "tuner = CVTuner(oracle=kt.oracles.BayesianOptimizationOracle(objective='val_mse', max_trials=100), hypermodel=build_model, directory=\"baseline\", project_name=\"lstm\", overwrite=False)\n",
    "\n",
    "stop_early = tf.keras.callbacks.EarlyStopping(monitor='val_mse', patience=5)\n",
    "\n",
    "tuner.search(window=w, callbacks=[stop_early])\n"
   ]
  },
  {
   "cell_type": "code",
   "execution_count": null,
   "metadata": {},
   "outputs": [],
   "source": [
    "tuner.get_best_hyperparameters()[0].values"
   ]
  }
 ],
 "metadata": {
  "kernelspec": {
   "display_name": "Python 3 (ipykernel)",
   "language": "python",
   "name": "python3"
  },
  "language_info": {
   "codemirror_mode": {
    "name": "ipython",
    "version": 3
   },
   "file_extension": ".py",
   "mimetype": "text/x-python",
   "name": "python",
   "nbconvert_exporter": "python",
   "pygments_lexer": "ipython3",
   "version": "3.9.1"
  }
 },
 "nbformat": 4,
 "nbformat_minor": 4
}
