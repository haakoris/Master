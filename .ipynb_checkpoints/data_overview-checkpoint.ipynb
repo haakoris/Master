{
 "cells": [
  {
   "cell_type": "markdown",
   "id": "e88ed8d0-32a4-4084-bf5f-66c74aa85974",
   "metadata": {},
   "source": [
    "# Data"
   ]
  },
  {
   "cell_type": "code",
   "execution_count": 2,
   "id": "26df5b9c-3c24-48df-8c7b-02437ce97e6f",
   "metadata": {
    "tags": []
   },
   "outputs": [],
   "source": [
    "import pandas as pd\n",
    "import numpy as np\n",
    "import seaborn as sns\n",
    "import matplotlib.pyplot as plt"
   ]
  },
  {
   "cell_type": "code",
   "execution_count": 3,
   "id": "526a8dfa-294e-4e55-b24d-75862456d003",
   "metadata": {
    "tags": []
   },
   "outputs": [],
   "source": [
    "from IPython.display import display"
   ]
  },
  {
   "cell_type": "code",
   "execution_count": 4,
   "id": "451b25f5-7c20-470a-a33f-876d0f6bde38",
   "metadata": {
    "tags": []
   },
   "outputs": [],
   "source": [
    "import pandas_datareader as pdr"
   ]
  },
  {
   "cell_type": "markdown",
   "id": "5fe88963-ab1b-4bff-a4e1-a63e3bc9b3df",
   "metadata": {},
   "source": [
    "## Metrics anbefalinger fra veiledere \n",
    "* QLIKE, Theil statistic\n",
    "* Sjekk riktig retning (directional error)\n",
    "* "
   ]
  },
  {
   "cell_type": "markdown",
   "id": "1046ddc9-3a17-4851-8b64-92ead9454da3",
   "metadata": {
    "jp-MarkdownHeadingCollapsed": true,
    "tags": []
   },
   "source": [
    "## Data from previous years' papers"
   ]
  },
  {
   "cell_type": "markdown",
   "id": "e1481d1c-8b91-4846-baca-3e4f912f36da",
   "metadata": {
    "tags": []
   },
   "source": [
    "### Binary VIX monthly from [Implied volatility directional forecasting: a machine learning approach](https://doi.org/10.1080/14697688.2021.1905869)"
   ]
  },
  {
   "cell_type": "code",
   "execution_count": 5,
   "id": "8722b96f-2868-4963-ae1e-fde820c74ee0",
   "metadata": {
    "tags": []
   },
   "outputs": [
    {
     "data": {
      "text/html": [
       "<div>\n",
       "<style scoped>\n",
       "    .dataframe tbody tr th:only-of-type {\n",
       "        vertical-align: middle;\n",
       "    }\n",
       "\n",
       "    .dataframe tbody tr th {\n",
       "        vertical-align: top;\n",
       "    }\n",
       "\n",
       "    .dataframe thead th {\n",
       "        text-align: right;\n",
       "    }\n",
       "</style>\n",
       "<table border=\"1\" class=\"dataframe\">\n",
       "  <thead>\n",
       "    <tr style=\"text-align: right;\">\n",
       "      <th></th>\n",
       "      <th>Code</th>\n",
       "      <th>Predictive Variable</th>\n",
       "      <th>Unit</th>\n",
       "      <th>Transformation</th>\n",
       "      <th>Source</th>\n",
       "    </tr>\n",
       "  </thead>\n",
       "  <tbody>\n",
       "    <tr>\n",
       "      <th>0</th>\n",
       "      <td>1</td>\n",
       "      <td>VIX Index Level – End of period</td>\n",
       "      <td>(%)</td>\n",
       "      <td>–</td>\n",
       "      <td>CBOE</td>\n",
       "    </tr>\n",
       "    <tr>\n",
       "      <th>1</th>\n",
       "      <td>2</td>\n",
       "      <td>SMB Factor Monthly Portfolio Returns – Small Minus Big – Size Factor</td>\n",
       "      <td>(%)</td>\n",
       "      <td>–</td>\n",
       "      <td>Fama – French</td>\n",
       "    </tr>\n",
       "    <tr>\n",
       "      <th>2</th>\n",
       "      <td>3</td>\n",
       "      <td>HML Factor Monthly Portfolio Returns – High Minus Low -Value Factor</td>\n",
       "      <td>(%)</td>\n",
       "      <td>–</td>\n",
       "      <td>Fama – French</td>\n",
       "    </tr>\n",
       "    <tr>\n",
       "      <th>3</th>\n",
       "      <td>4</td>\n",
       "      <td>MKT Factor Portfolio Returns – Equity Market Factor</td>\n",
       "      <td>(%)</td>\n",
       "      <td>–</td>\n",
       "      <td>Fama – French</td>\n",
       "    </tr>\n",
       "    <tr>\n",
       "      <th>4</th>\n",
       "      <td>5</td>\n",
       "      <td>MOM Factor Portfolio Returns – Medium Price Momentum Factor</td>\n",
       "      <td>(%)</td>\n",
       "      <td>–</td>\n",
       "      <td>Fama – French</td>\n",
       "    </tr>\n",
       "    <tr>\n",
       "      <th>5</th>\n",
       "      <td>6</td>\n",
       "      <td>STR Factor Portfolio Returns – Short Term Reversal Factor</td>\n",
       "      <td>(%)</td>\n",
       "      <td>–</td>\n",
       "      <td>Fama – French</td>\n",
       "    </tr>\n",
       "    <tr>\n",
       "      <th>6</th>\n",
       "      <td>7</td>\n",
       "      <td>RVAR Factor Portfolio Returns – Residual Variance Factor</td>\n",
       "      <td>(%)</td>\n",
       "      <td>–</td>\n",
       "      <td>Fama – French</td>\n",
       "    </tr>\n",
       "    <tr>\n",
       "      <th>7</th>\n",
       "      <td>8</td>\n",
       "      <td>BAB Factor Portfolio Returns – Betting Against Beta Factor</td>\n",
       "      <td>(%)</td>\n",
       "      <td>–</td>\n",
       "      <td>AQR</td>\n",
       "    </tr>\n",
       "    <tr>\n",
       "      <th>8</th>\n",
       "      <td>9</td>\n",
       "      <td>QMJ Factor Portfolio Returns – Quality Minus Junk Factor</td>\n",
       "      <td>(%)</td>\n",
       "      <td>–</td>\n",
       "      <td>AQR</td>\n",
       "    </tr>\n",
       "    <tr>\n",
       "      <th>9</th>\n",
       "      <td>10</td>\n",
       "      <td>Term spread – 10-year Treasury yield -3-month Tbill rate</td>\n",
       "      <td>(%)</td>\n",
       "      <td>–</td>\n",
       "      <td>FRED Database</td>\n",
       "    </tr>\n",
       "    <tr>\n",
       "      <th>10</th>\n",
       "      <td>11</td>\n",
       "      <td>Credit Spread – Moodys BAA Yield over 10-year Treasury Yield</td>\n",
       "      <td>(%)</td>\n",
       "      <td>–</td>\n",
       "      <td>FRED Database</td>\n",
       "    </tr>\n",
       "    <tr>\n",
       "      <th>11</th>\n",
       "      <td>12</td>\n",
       "      <td>10-year Treasury Yield</td>\n",
       "      <td>(%)</td>\n",
       "      <td>–</td>\n",
       "      <td>FRED Database</td>\n",
       "    </tr>\n",
       "    <tr>\n",
       "      <th>12</th>\n",
       "      <td>13</td>\n",
       "      <td>3-month T-bill Rate</td>\n",
       "      <td>(%)</td>\n",
       "      <td>–</td>\n",
       "      <td>FRED Database</td>\n",
       "    </tr>\n",
       "    <tr>\n",
       "      <th>13</th>\n",
       "      <td>14</td>\n",
       "      <td>Oil Price Index – WTI Crude Oil</td>\n",
       "      <td>(%)</td>\n",
       "      <td>month-on-month % change</td>\n",
       "      <td>FRED Database</td>\n",
       "    </tr>\n",
       "    <tr>\n",
       "      <th>14</th>\n",
       "      <td>15</td>\n",
       "      <td>Dollar Index</td>\n",
       "      <td>(%)</td>\n",
       "      <td>month-on-month % change</td>\n",
       "      <td>FRED Database</td>\n",
       "    </tr>\n",
       "    <tr>\n",
       "      <th>15</th>\n",
       "      <td>16</td>\n",
       "      <td>TED Spread</td>\n",
       "      <td>(%)</td>\n",
       "      <td>–</td>\n",
       "      <td>FRED Database</td>\n",
       "    </tr>\n",
       "    <tr>\n",
       "      <th>16</th>\n",
       "      <td>17</td>\n",
       "      <td>Skew Index</td>\n",
       "      <td>(%)</td>\n",
       "      <td>–</td>\n",
       "      <td>CBOE</td>\n",
       "    </tr>\n",
       "    <tr>\n",
       "      <th>17</th>\n",
       "      <td>18</td>\n",
       "      <td>Chicago Fed National Financial Conditions Leverage SubIndex</td>\n",
       "      <td>Z-score</td>\n",
       "      <td>Normalized</td>\n",
       "      <td>FRED Database</td>\n",
       "    </tr>\n",
       "    <tr>\n",
       "      <th>18</th>\n",
       "      <td>19</td>\n",
       "      <td>TSMOM Factor Portfolio Returns – Diversified Asset Medium-Term Price Momentum</td>\n",
       "      <td>(%)</td>\n",
       "      <td>–</td>\n",
       "      <td>AQR</td>\n",
       "    </tr>\n",
       "    <tr>\n",
       "      <th>19</th>\n",
       "      <td>20</td>\n",
       "      <td>MOM CM Factor Portfolio Returns – Commodities Medium-Term Price Momentum</td>\n",
       "      <td>(%)</td>\n",
       "      <td>–</td>\n",
       "      <td>AQR</td>\n",
       "    </tr>\n",
       "    <tr>\n",
       "      <th>20</th>\n",
       "      <td>21</td>\n",
       "      <td>MOM EQ Factor Portfolio Returns – Equity Market Medium-Term Price Momentum</td>\n",
       "      <td>(%)</td>\n",
       "      <td>–</td>\n",
       "      <td>AQR</td>\n",
       "    </tr>\n",
       "    <tr>\n",
       "      <th>21</th>\n",
       "      <td>22</td>\n",
       "      <td>MOM FI Factor Portfolio Returns – Fixed Income Market Medium-Term Price Momentum</td>\n",
       "      <td>(%)</td>\n",
       "      <td>–</td>\n",
       "      <td>AQR</td>\n",
       "    </tr>\n",
       "    <tr>\n",
       "      <th>22</th>\n",
       "      <td>23</td>\n",
       "      <td>MOM FX Factor Portfolio Returns – Foreign Exchange Market Medium-Term Price Momentum</td>\n",
       "      <td>(%)</td>\n",
       "      <td>–</td>\n",
       "      <td>AQR</td>\n",
       "    </tr>\n",
       "    <tr>\n",
       "      <th>23</th>\n",
       "      <td>24</td>\n",
       "      <td>HMLD Factor Portfolio Returns – High Minus Low Devil Factor</td>\n",
       "      <td>(%)</td>\n",
       "      <td>–</td>\n",
       "      <td>AQR</td>\n",
       "    </tr>\n",
       "    <tr>\n",
       "      <th>24</th>\n",
       "      <td>25</td>\n",
       "      <td>Economic Policy Uncertainty Index (ECU)</td>\n",
       "      <td>Index Level</td>\n",
       "      <td>–</td>\n",
       "      <td>Economic Policy Uncertainty</td>\n",
       "    </tr>\n",
       "    <tr>\n",
       "      <th>25</th>\n",
       "      <td>26</td>\n",
       "      <td>Macroeconomic Volatility (MacVol) – Industrial Production Growth</td>\n",
       "      <td>(%)</td>\n",
       "      <td>Annualized 12-month rolling SDEV</td>\n",
       "      <td>FRED Database</td>\n",
       "    </tr>\n",
       "    <tr>\n",
       "      <th>26</th>\n",
       "      <td>27</td>\n",
       "      <td>Bullish Sentiment – Average</td>\n",
       "      <td>(%)</td>\n",
       "      <td>Monthly Average</td>\n",
       "      <td>AAII</td>\n",
       "    </tr>\n",
       "    <tr>\n",
       "      <th>27</th>\n",
       "      <td>28</td>\n",
       "      <td>Neutral Sentiment – Average</td>\n",
       "      <td>(%)</td>\n",
       "      <td>Monthly Average</td>\n",
       "      <td>AAII</td>\n",
       "    </tr>\n",
       "    <tr>\n",
       "      <th>28</th>\n",
       "      <td>29</td>\n",
       "      <td>Bearish Sentiment – Average</td>\n",
       "      <td>(%)</td>\n",
       "      <td>Monthly Average</td>\n",
       "      <td>AAII</td>\n",
       "    </tr>\n",
       "    <tr>\n",
       "      <th>29</th>\n",
       "      <td>30</td>\n",
       "      <td>Bull-Bear Spread – Average</td>\n",
       "      <td>(%)</td>\n",
       "      <td>Monthly Average</td>\n",
       "      <td>AAII</td>\n",
       "    </tr>\n",
       "    <tr>\n",
       "      <th>30</th>\n",
       "      <td>31</td>\n",
       "      <td>Bull – Bear Ratio – Average</td>\n",
       "      <td>(%)</td>\n",
       "      <td>Monthly Average</td>\n",
       "      <td>AAII</td>\n",
       "    </tr>\n",
       "    <tr>\n",
       "      <th>31</th>\n",
       "      <td>32</td>\n",
       "      <td>8-week Moving Average Bullish Sentiment</td>\n",
       "      <td>(%)</td>\n",
       "      <td>–</td>\n",
       "      <td>AAII</td>\n",
       "    </tr>\n",
       "  </tbody>\n",
       "</table>\n",
       "</div>"
      ],
      "text/plain": [
       "    Code  \\\n",
       "0      1   \n",
       "1      2   \n",
       "2      3   \n",
       "3      4   \n",
       "4      5   \n",
       "5      6   \n",
       "6      7   \n",
       "7      8   \n",
       "8      9   \n",
       "9     10   \n",
       "10    11   \n",
       "11    12   \n",
       "12    13   \n",
       "13    14   \n",
       "14    15   \n",
       "15    16   \n",
       "16    17   \n",
       "17    18   \n",
       "18    19   \n",
       "19    20   \n",
       "20    21   \n",
       "21    22   \n",
       "22    23   \n",
       "23    24   \n",
       "24    25   \n",
       "25    26   \n",
       "26    27   \n",
       "27    28   \n",
       "28    29   \n",
       "29    30   \n",
       "30    31   \n",
       "31    32   \n",
       "\n",
       "                                                                     Predictive Variable  \\\n",
       "0                                                        VIX Index Level – End of period   \n",
       "1                   SMB Factor Monthly Portfolio Returns – Small Minus Big – Size Factor   \n",
       "2                    HML Factor Monthly Portfolio Returns – High Minus Low -Value Factor   \n",
       "3                                    MKT Factor Portfolio Returns – Equity Market Factor   \n",
       "4                            MOM Factor Portfolio Returns – Medium Price Momentum Factor   \n",
       "5                              STR Factor Portfolio Returns – Short Term Reversal Factor   \n",
       "6                               RVAR Factor Portfolio Returns – Residual Variance Factor   \n",
       "7                             BAB Factor Portfolio Returns – Betting Against Beta Factor   \n",
       "8                               QMJ Factor Portfolio Returns – Quality Minus Junk Factor   \n",
       "9                               Term spread – 10-year Treasury yield -3-month Tbill rate   \n",
       "10                          Credit Spread – Moodys BAA Yield over 10-year Treasury Yield   \n",
       "11                                                                10-year Treasury Yield   \n",
       "12                                                                   3-month T-bill Rate   \n",
       "13                                                       Oil Price Index – WTI Crude Oil   \n",
       "14                                                                          Dollar Index   \n",
       "15                                                                            TED Spread   \n",
       "16                                                                            Skew Index   \n",
       "17                           Chicago Fed National Financial Conditions Leverage SubIndex   \n",
       "18         TSMOM Factor Portfolio Returns – Diversified Asset Medium-Term Price Momentum   \n",
       "19              MOM CM Factor Portfolio Returns – Commodities Medium-Term Price Momentum   \n",
       "20            MOM EQ Factor Portfolio Returns – Equity Market Medium-Term Price Momentum   \n",
       "21      MOM FI Factor Portfolio Returns – Fixed Income Market Medium-Term Price Momentum   \n",
       "22  MOM FX Factor Portfolio Returns – Foreign Exchange Market Medium-Term Price Momentum   \n",
       "23                           HMLD Factor Portfolio Returns – High Minus Low Devil Factor   \n",
       "24                                               Economic Policy Uncertainty Index (ECU)   \n",
       "25                      Macroeconomic Volatility (MacVol) – Industrial Production Growth   \n",
       "26                                                           Bullish Sentiment – Average   \n",
       "27                                                           Neutral Sentiment – Average   \n",
       "28                                                           Bearish Sentiment – Average   \n",
       "29                                                            Bull-Bear Spread – Average   \n",
       "30                                                           Bull – Bear Ratio – Average   \n",
       "31                                               8-week Moving Average Bullish Sentiment   \n",
       "\n",
       "           Unit                    Transformation                       Source  \n",
       "0           (%)                                 –                         CBOE  \n",
       "1           (%)                                 –                Fama – French  \n",
       "2           (%)                                 –                Fama – French  \n",
       "3           (%)                                 –                Fama – French  \n",
       "4           (%)                                 –                Fama – French  \n",
       "5           (%)                                 –                Fama – French  \n",
       "6           (%)                                 –                Fama – French  \n",
       "7           (%)                                 –                          AQR  \n",
       "8           (%)                                 –                          AQR  \n",
       "9           (%)                                 –                FRED Database  \n",
       "10          (%)                                 –                FRED Database  \n",
       "11          (%)                                 –                FRED Database  \n",
       "12          (%)                                 –                FRED Database  \n",
       "13          (%)           month-on-month % change                FRED Database  \n",
       "14          (%)           month-on-month % change                FRED Database  \n",
       "15          (%)                                 –                FRED Database  \n",
       "16          (%)                                 –                         CBOE  \n",
       "17      Z-score                        Normalized                FRED Database  \n",
       "18          (%)                                 –                          AQR  \n",
       "19          (%)                                 –                          AQR  \n",
       "20          (%)                                 –                          AQR  \n",
       "21          (%)                                 –                          AQR  \n",
       "22          (%)                                 –                          AQR  \n",
       "23          (%)                                 –                          AQR  \n",
       "24  Index Level                                 –  Economic Policy Uncertainty  \n",
       "25          (%)  Annualized 12-month rolling SDEV                FRED Database  \n",
       "26          (%)                   Monthly Average                         AAII  \n",
       "27          (%)                   Monthly Average                         AAII  \n",
       "28          (%)                   Monthly Average                         AAII  \n",
       "29          (%)                   Monthly Average                         AAII  \n",
       "30          (%)                   Monthly Average                         AAII  \n",
       "31          (%)                                 –                         AAII  "
      ]
     },
     "metadata": {},
     "output_type": "display_data"
    }
   ],
   "source": [
    "with pd.option_context(\"display.max_colwidth\", 100):\n",
    "    data = pd.read_csv(\"literature_data/Implied volatility directional forecasting a machine learning approach.csv\")\n",
    "    display(data)"
   ]
  },
  {
   "cell_type": "markdown",
   "id": "d2eb98e8-f6ee-4fec-bb75-3f80d51771d8",
   "metadata": {
    "tags": []
   },
   "source": [
    "### OVX from [Does Uncertainty Forecast Crude Oil Volatility before and during the COVID-19 Outbreak? Fresh Evidence Using Machine Learning Models](https://doi.org/10.3390/en15155744)"
   ]
  },
  {
   "cell_type": "markdown",
   "id": "eb2f1bd7-9ead-4a77-a368-1b0d59845bc3",
   "metadata": {},
   "source": [
    "*The data includes daily values of the Crude Oil Volatility Index (OVX), US Economic Policy Uncertainty Index (EPU), Chicago Board Options Exchange Volatility Index (VIX), Geopolitical Risk Index (GPR), and Daily Infectious Disease Equity Market Volatility Tracker (IDEMV). The EPU, GPR, and IDEMV are obtained from https://www.policyuncertainty.com/ (accessed on 1 October 2021).*"
   ]
  },
  {
   "cell_type": "markdown",
   "id": "8cae9988-445a-4cd9-8d9b-c94133fa1e3a",
   "metadata": {
    "jp-MarkdownHeadingCollapsed": true,
    "tags": []
   },
   "source": [
    "### Directional VIX from [The Impact of the U.S. Macroeconomic Variables on the CBOE VIX Index](https://doi.org/10.3390/jrfm15030126)"
   ]
  },
  {
   "cell_type": "markdown",
   "id": "b20c61a8-c078-4b95-be7f-dc3b5511c34d",
   "metadata": {},
   "source": [
    "*Because the macro data belong to different departments, it is observed that the macro data is missing on a particular day, but the stock market might be functioning on the same day. In such a situation, the macro data are forward-filled. Moreover, daily macroeconomic variables might suffer from a delay in reporting the issue. To subside this issue, daily macroeconomic variables with delays in reporting issues were not selected in the study and the weekly macroeconomic variables, which are generally free from such issues, were also selected.*<br>\n",
    "*To accommodate the missing data properly, the timestamp of the VIX Index is taken as the base sequence and the data for the other features were forward-filled or, in case of additional data, were deleted after performing an inner join.*"
   ]
  },
  {
   "cell_type": "markdown",
   "id": "ea7be02c-2277-4332-a609-2ad7dc504870",
   "metadata": {},
   "source": [
    "![title](literature_data/features_macro_vix.png)"
   ]
  },
  {
   "cell_type": "markdown",
   "id": "7db21c5d-77f3-409f-ac4f-06217f858058",
   "metadata": {
    "jp-MarkdownHeadingCollapsed": true,
    "tags": []
   },
   "source": [
    "### Data from [Introspecting predictability of market fear in Indian context during COVID-19 pandemic: An integrated approach of applied predictive modelling and explainable AI](https://doi.org/10.1016/j.jjimei.2021.100039)"
   ]
  },
  {
   "cell_type": "markdown",
   "id": "f26a9006-1235-4908-92fa-9301e0286b7b",
   "metadata": {},
   "source": [
    "![title](literature_data/india_vix_1.png)"
   ]
  },
  {
   "cell_type": "markdown",
   "id": "cd57a8d7-3352-4d8c-af43-e810cd4d3c37",
   "metadata": {},
   "source": [
    "![title](literature_data/india_vix_2.png)"
   ]
  },
  {
   "cell_type": "markdown",
   "id": "2314a02a-77b8-4567-96ee-64dfe5794358",
   "metadata": {},
   "source": [
    "### Data from [A Machine Learning Approach to Volatility Forecasting](https://doi.org/10.1093/jjfinec/nbac020)"
   ]
  },
  {
   "cell_type": "markdown",
   "id": "01133b9b-51e9-4823-b102-ea5eb19ceafa",
   "metadata": {},
   "source": [
    "*We include five macroeconomic indicators: The CBOE volatility (VIX) index, the Hang Seng stock index daily squared log-return (HSI), the Aruoba, Diebold, and Scotti (2009) business conditions (ADS) index, the US 3-month T-bill rate (US3M), and the economic policy uncertainty (EPU) index from Baker, Bloom, and Nicholas (2016).17 We first difference US3M to account for possible nonstationarity*"
   ]
  },
  {
   "cell_type": "markdown",
   "id": "7e266203-abb0-4408-a1ca-28626216d889",
   "metadata": {},
   "source": [
    "### Data from [Realized Volatility Forecasting with Neural Networks](https://doi.org/10.1093/jjfinec/nbaa008)"
   ]
  },
  {
   "cell_type": "markdown",
   "id": "2965ecc4-1527-4614-a57b-742e0bf5fa68",
   "metadata": {},
   "source": [
    "*First, the set of determinants comprehends the dividend-price (DP) and the earnings-price ratio (EP), commonly included in the set of the excess returns predictors, see also Welch and Goyal (2008). The well-known leverage effect (i.e., negative returns reflect higher volatility) is gathered through the equity market excess return (MKT). As a measure of risk factors, the Fama and French’s (1993) factors (High Minus Low, HML, and Small Minus Big, SMB) are considered in the analysis. The short-term reversal factor (STR) is included to capture the component of stock returns unexplained by “fundamentals.”*\n",
    "\n",
    "*A set of bond market variables enriches the set of determinants, as the Treasury bill (T-bill) rate, the rate of return on long-term government bond and the term spread difference (TS) of long-term bond yield three-month T-bill rate. The default spread (DEF) completes the set of financial determinants to approximate credit risk.*\n",
    "\n",
    "*The inclusion of macroeconomic variables, as inflation rate and industrial production growth, follows Schwert (1989) and Engle, Ghysels, and Sohn (2009). Including these variables permits to assess whether volatility is countercyclical or not. A description of the variables in the data is shown in Table 1*"
   ]
  },
  {
   "cell_type": "markdown",
   "id": "b0eae59d-3d02-4c5e-be6c-019f5209afe2",
   "metadata": {},
   "source": [
    "MONTHLY\n",
    "![title](literature_data/bucca.png)"
   ]
  },
  {
   "cell_type": "markdown",
   "id": "06f9f956-0550-42cb-8127-5f5b80a5a27b",
   "metadata": {},
   "source": [
    "### Data from [Forecasting crude oil market volatility using variable selection and common factor](https://doi.org/10.1016/j.ijforecast.2021.12.013)"
   ]
  },
  {
   "cell_type": "markdown",
   "id": "887d9788-b763-450e-8089-c04c5ffd5c31",
   "metadata": {},
   "source": [
    "*In this paper, we rely on a large number of macroeconomic variables from the FRED-MD database of McCracken and Ng (2016) to forecast the aggregate oil futures market volatility. The FRED-MD is a comprehensive macroeconomic database consisting of more than 100 macro variables and facilitates “big-data” research. We collect a total of 128 macro variables from the 2019:06 vintage of the FRED-MD database.10 The variable of ACOGNO, which is new orders for consumer goods, is excluded as this variable is merely available starting from February 1992. Consequently, we rely on 127 variables to forecast oil market volatility. The macro variables in the FRED-MD are classified into eight groups: (1) output and income (No. 1–16), (2) labor market (No. 17–47), (3) housing (No. 48–57), (4) consumption, orders, and inventories (No. 58–66), (5) money and credit (No. 67–80), (6) interest and exchange rates (No. 81–102), (7) prices (No. 103–122), and (8) stock market (No. 123–127). Two additional issues are noteworthy. First, we use the transformation codes provided by McCracken and Ng (2016) to ensure the stationarity for each used variable. Second, we take a one-month lag for many variables due to the publication delays.*"
   ]
  },
  {
   "cell_type": "code",
   "execution_count": null,
   "id": "8768f244-b2ff-4a1c-911a-e5f56913e4d0",
   "metadata": {},
   "outputs": [],
   "source": []
  }
 ],
 "metadata": {
  "kernelspec": {
   "display_name": "master-venv",
   "language": "python",
   "name": "master-venv"
  },
  "language_info": {
   "codemirror_mode": {
    "name": "ipython",
    "version": 3
   },
   "file_extension": ".py",
   "mimetype": "text/x-python",
   "name": "python",
   "nbconvert_exporter": "python",
   "pygments_lexer": "ipython3",
   "version": "3.10.11"
  }
 },
 "nbformat": 4,
 "nbformat_minor": 5
}
