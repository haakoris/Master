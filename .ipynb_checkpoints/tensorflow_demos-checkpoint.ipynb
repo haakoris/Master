{
 "cells": [
  {
   "cell_type": "markdown",
   "id": "dd5fe8b9-b938-49d0-9f52-d569114234d6",
   "metadata": {},
   "source": [
    "# Tensorflow Learning"
   ]
  },
  {
   "cell_type": "code",
   "execution_count": 2,
   "id": "97799c08-1ac6-450d-afbf-a842902c6204",
   "metadata": {
    "tags": []
   },
   "outputs": [],
   "source": [
    "import tensorflow as tf\n",
    "import numpy as np"
   ]
  },
  {
   "cell_type": "markdown",
   "id": "492ac1ba-4997-4a85-a92e-b644308e0d44",
   "metadata": {},
   "source": [
    "## Tensorflow introduction"
   ]
  },
  {
   "cell_type": "markdown",
   "id": "3921faf5-7933-4f7c-8a2f-11f8aade8cad",
   "metadata": {
    "jp-MarkdownHeadingCollapsed": true,
    "tags": []
   },
   "source": [
    "### Tensors and NumPy\n",
    "NOTE: Tensorflow uses 32-bit precision by default, so set ```dtype=tf.float32```in numpy arrays"
   ]
  },
  {
   "cell_type": "markdown",
   "id": "826623f2-5d6d-4423-9679-c17e8260f840",
   "metadata": {
    "jp-MarkdownHeadingCollapsed": true,
    "tags": []
   },
   "source": [
    "## Data loading and preprocessing"
   ]
  },
  {
   "cell_type": "markdown",
   "id": "55e9a2a4-69df-485e-b01e-e3c461c2c202",
   "metadata": {
    "tags": []
   },
   "source": [
    "### Datasets"
   ]
  },
  {
   "cell_type": "markdown",
   "id": "36a2f370-33d5-4c40-9805-adb4906c9c09",
   "metadata": {
    "tags": []
   },
   "source": [
    "#### Creation and manipulation"
   ]
  },
  {
   "cell_type": "markdown",
   "id": "23dd7ea4-8393-4420-a663-b83cda10d6d9",
   "metadata": {},
   "source": [
    "```tf.data.Dataset.from_tensorslices()```\n",
    "* Takes a tensor and creates a Dataset whose elements are all slices of X along first dimension\n",
    "<br>\n",
    "Example transformation repeating each element 3 times, and then putting into batches of size n:"
   ]
  },
  {
   "cell_type": "code",
   "execution_count": 15,
   "id": "b5da4cc3-32f4-4031-9582-7b29c145bc11",
   "metadata": {
    "tags": []
   },
   "outputs": [
    {
     "name": "stdout",
     "output_type": "stream",
     "text": [
      "Repeat and batches demo\n",
      "tf.Tensor([0 1 2 3 4 0 1], shape=(7,), dtype=int32)\n",
      "tf.Tensor([0 1 2 3 4], shape=(5,), dtype=int32)\n",
      "\n",
      "tf.Tensor([2 3 4], shape=(3,), dtype=int32)\n",
      "tf.Tensor([0 1 2 3 4], shape=(5,), dtype=int32)\n",
      "\n",
      "Take demo\n",
      "tf.Tensor(0, shape=(), dtype=int32)\n",
      "tf.Tensor(1, shape=(), dtype=int32)\n"
     ]
    }
   ],
   "source": [
    "dataset = tf.data.Dataset.from_tensor_slices(tf.range(5))\n",
    "dataset_1 = dataset.repeat(2).batch(7)\n",
    "dataset_2 = dataset.repeat(2).batch(5)\n",
    "print(\"Repeat and batches demo\")\n",
    "for i_1, i_2 in zip(dataset_1, dataset_2):\n",
    "    print(i_1)\n",
    "    print(i_2)\n",
    "    print()\n",
    "print(\"Take demo\")\n",
    "[print(i) for i in dataset.take(2)];"
   ]
  },
  {
   "cell_type": "markdown",
   "id": "6e79a269-05bf-4fed-bfee-63abf9b2f991",
   "metadata": {
    "jp-MarkdownHeadingCollapsed": true,
    "tags": []
   },
   "source": [
    "#### Shuffling"
   ]
  },
  {
   "cell_type": "markdown",
   "id": "dc29e93a-a0dd-4fef-9e3f-b7ada3d33a75",
   "metadata": {},
   "source": [
    "<b>Note</b>: Gradient Descent works better with independent and identically distributed training sets, thus motivating shuffling of datasets.<br>\n",
    "The ```shuffle()```method creates a new dataset that starts by filling up a buffer with the first items of the source data. When asking for data, a random pick is chosen from the buffer which then fetches a new item from the source data. When the source dataset is empty, it will pick random items from the buffer until it is empty. Thus, the ```buffer_size```parameter needs to be sufficiently large. \n",
    "___\n",
    "<b>Interleaving</b><br>\n",
    "For large datasets, a more thorough shuffling is in order as the batch size will be too small compared to the data cardinality. Another method of shuffling is picking multiple files randomly and reading them simultaneously, interleaving their records."
   ]
  },
  {
   "cell_type": "markdown",
   "id": "9aaf452a-b5f8-4e3d-9396-c90a712b24d2",
   "metadata": {},
   "source": [
    "#### Prefetching"
   ]
  },
  {
   "cell_type": "markdown",
   "id": "e8e1dfc3-33a9-49d1-af3f-d7c49f2e0fb2",
   "metadata": {},
   "source": [
    "The ```prefetch(n)```function is a form of parallelism, wherein the dataset will prepare a batch <i>n</i> steps ahead while the current batch is being trained on. This may improve the performance dramatically."
   ]
  },
  {
   "cell_type": "markdown",
   "id": "090c4cc8-fd7c-4bca-be6a-e9f058ecc066",
   "metadata": {
    "tags": []
   },
   "source": [
    "### Preprocessing"
   ]
  },
  {
   "cell_type": "markdown",
   "id": "5210a1f3-d7f5-4659-8c61-c92a8ecb9041",
   "metadata": {},
   "source": [
    "#### Incorporating a preprocessing layer directly into the model"
   ]
  },
  {
   "cell_type": "markdown",
   "id": "62ae5c99-fb55-433f-b86c-6ba90394fcb7",
   "metadata": {
    "tags": []
   },
   "source": [
    "This is generally probably not a good idea, as it is better to preprocess the data beforehand to speed up training and generalization.<br>\n",
    "Example of creating a standardization layer class which can be put into a model:\n",
    "```Python\n",
    "class Standardization(tf.keras.layers.Layer):\n",
    "    def adapt(self, data_sample):\n",
    "        self.means_ = np.mean(\n",
    "            data_sample, axis=0, keepdims=True\n",
    "        )\n",
    "        self.stds_ = np.std(\n",
    "            data_sample, axis=0, keepdims=True\n",
    "        )\n",
    "    def call(self, inputs):\n",
    "        return (inputs - self.means_) / \n",
    "                (\n",
    "            self.stds_ + tf.keras.backend.epsilon()\n",
    "        )\n",
    "    \n",
    "std_layer = Standardization()\n",
    "std_layer.adapt(data_sample)\n",
    "model = keras.Sequentila([\n",
    "    ...\n",
    "    std_layer,\n",
    "    ...\n",
    "])\n",
    "```"
   ]
  },
  {
   "cell_type": "markdown",
   "id": "16665f81-95ab-4feb-8512-4c49741c4d22",
   "metadata": {},
   "source": [
    "Example use:\n",
    "\n",
    "```"
   ]
  },
  {
   "cell_type": "markdown",
   "id": "d6a73f00-b9dd-451f-9f89-03016d43668a",
   "metadata": {
    "tags": []
   },
   "source": [
    "## Customizing Models and Training Algorithms"
   ]
  },
  {
   "cell_type": "markdown",
   "id": "371269e9-8ff2-4f6d-a332-27bad0f1de3b",
   "metadata": {
    "jp-MarkdownHeadingCollapsed": true,
    "tags": []
   },
   "source": [
    "#### Custom Loss Functions"
   ]
  },
  {
   "cell_type": "markdown",
   "id": "884e928c-d655-4ec3-860f-2a392ae4d7ad",
   "metadata": {
    "jp-MarkdownHeadingCollapsed": true,
    "tags": []
   },
   "source": [
    "Example w/ Huber Loss:\n",
    "```Python\n",
    "def huber_fn(y_true, y_pred):\n",
    "    error = y_true - y_pred\n",
    "    is_small_error = tf.abs(error) < 1\n",
    "    squared_loss = tf.square(error) / 2\n",
    "    linear_loss = tf.abs(error) - 0.5\n",
    "    return tf.where(is_small_error, squared_loss, linear_loss)\n",
    "\n",
    "model.compile(...,loss=huber_fn, ...)\n",
    "```\n",
    "To save a model with custom params for the loss function, a subclassing can be done.\n",
    "Subclassing the <i>Loss</i> class example:\n",
    "```Python\n",
    "class HuberLoss(keras.losses.Loss):\n",
    "    def __init__(self, treshold=1.0, **kwargs):\n",
    "        self.treshold = treshold\n",
    "        super().__init__(**kwargs)\n",
    "    def call(self, y_true, y_pred):\n",
    "        error = y_true - y_pred\n",
    "        is_small_error = tf.abs(error) < self.treshold\n",
    "        squared_loss = tf.square(error) / 2\n",
    "        linear_loss = self.treshold * tf.abs(error) -         self.treshold**2 / 2\n",
    "        return tf.where(is_small_error, squared_loss, linear_loss)\n",
    "    def get_config(self):\n",
    "        base_config = super().get_config()\n",
    "        return {**base_config, \"treshold\": self.treshold}\n",
    "```\n",
    "Loading example:\n",
    "```Python\n",
    "model = keras.models.load_model(\n",
    "    \"name.h5\", \n",
    "    custom_objects={\"HuberLoss\": HuberLoss}\n",
    ")\n",
    "```\n",
    "___"
   ]
  },
  {
   "cell_type": "markdown",
   "id": "dd833e46-68ee-4d07-909e-b5a08c19bc12",
   "metadata": {},
   "source": [
    "##### Custom Metrics\n",
    "A note about metrics:<br>\n",
    "Losses are used to train the model, while metrics are used to <i>evaluate</i> a model.<br>\n",
    "The implementation of custom metrics can be done in the same was as custom loss functions.\n",
    "___"
   ]
  },
  {
   "cell_type": "markdown",
   "id": "f8a4000e-1e46-430a-8609-8b91c474792a",
   "metadata": {},
   "source": [
    "### Custom activation function, initializers, regularizers and constraints"
   ]
  },
  {
   "cell_type": "markdown",
   "id": "35dcc9cf-0556-453b-a0fa-7051afd56391",
   "metadata": {},
   "source": [
    "<b>Custom activation function</b><br>\n",
    "This example creates a custom softmax or a ```tf.nn.softpluz(z)```\n",
    "```Python\n",
    "def my_softplus(z): \n",
    "    return tf.math.log(tf.exp(z) + 1.0)\n",
    "```\n",
    "<b>Custom initialization</b><br>\n",
    "A custom glorot initializer equivalent to ```keras.initializers.glorot_normal()```\n",
    "```Python\n",
    "def my_glorot_initializer(shape, dtype=tf.float32):\n",
    "    stddev = tf.sqrt(2. / (shape[0] + shape[1]))\n",
    "    return tf.random.normal(shape, stddev=stddev, dtype=dtype)\n",
    "```\n",
    "<b>Custom regularizer</b><br>\n",
    "Equivalent regularizer to ```keras.regularizers.l1(0.01)```\n",
    "```Python\n",
    "def my_l1_regularizer(weights):\n",
    "    # reduce_sum is equivalent to np.mean()\n",
    "    return tf.reduce_sum(tf.abs(0.01 * weights))\n",
    "```\n",
    "<b>Custom constraints</b>\n",
    "Equivalent to ```keras.constraints.nonneg()``` or ```tf.nn.relu())```\n",
    "```Python\n",
    "def my_positive_weights(weights):\n",
    "    return tf.where(weights < 0., tf.zeros_like(weights), weights)\n",
    "```\n",
    "<b>Note:</b> If a function has hyperparams that should be saved, use the subclass approach described for [custom loss functions](#Custom-Loss-Functions)\n",
    "___"
   ]
  },
  {
   "cell_type": "markdown",
   "id": "1b9e9ff2-1854-48b4-8d24-d1525d99c2c3",
   "metadata": {
    "jp-MarkdownHeadingCollapsed": true,
    "tags": []
   },
   "source": [
    "### Custom Layers\n",
    "Example creating a simplied dense layer:\n",
    "```Python\n",
    "class MyDens(keras.layers.Layer):\n",
    "    def __init__(\n",
    "        self, units, activation=None, **kwargs\n",
    "    ):\n",
    "        super().__init___(**kwargs)\n",
    "        self.units = units\n",
    "        self.activation = keras.activations.get(activation)\n",
    "    \n",
    "    def build(self, batch_input_shape):\n",
    "        self.kernel = self.add_weight(\n",
    "            name=\"kernel\", \n",
    "            shape=[\n",
    "                batch_input_shape[-1], self.units\n",
    "            ],\n",
    "            initializer=\"glorot_normal\"\n",
    "        )\n",
    "        self.bias = self.add_weights(\n",
    "            name=\"bias\",\n",
    "            shape=[self.units],\n",
    "            initializers=\"zeros\"\n",
    "        )\n",
    "        super().build(batch_input_shape)  # must be at the end\n",
    "        \n",
    "    def call(self, X):\n",
    "        return self.activation(X @ self.kernel + self.bias)\n",
    "    \n",
    "    def compute_output_shape(\n",
    "        self, batch_input_shape\n",
    "    ):\n",
    "        return tf.TensorShape(\n",
    "            batch_input_shape.as_list()[:-1] \n",
    "                + [self.units]\n",
    "        )\n",
    "    \n",
    "    def get_config(self):\n",
    "        base_config = super().get_config()\n",
    "        return {\n",
    "            **base_config, \"units\": self.units,\n",
    "            \"activation\": \n",
    "                    keras.serialize(self.activation)\n",
    "        }\n",
    "```"
   ]
  },
  {
   "cell_type": "markdown",
   "id": "7a2ca294-7595-4d5e-b8dc-b35450ca421c",
   "metadata": {
    "tags": []
   },
   "source": [
    "## Hyperparameter tuning"
   ]
  },
  {
   "cell_type": "markdown",
   "id": "6919220a-df86-41ff-9d9d-02b6f5425fdf",
   "metadata": {},
   "source": [
    "### K-fold cross validation"
   ]
  },
  {
   "cell_type": "markdown",
   "id": "07c1df31-7619-458b-9c69-ba6e874f9908",
   "metadata": {},
   "source": [
    "This is an example of how to use K-fold cross validation using keras, tensorflow and scikit-learn. <br><br>\n",
    "___\n",
    "Steps:\n",
    "1. Create a function that will build and compile a model given a set of hyperparams\n",
    "    * E.g.: number of hidden layers, number of neurones, learning rate, optimizer etc.\n",
    "2. Wrap Keras model using Keraswrapper to build model using scikit-learn.\n",
    "3. (OPTIONAL)Specify the range for hyperparams, then use scikit-learn's <i>RandomizedSearchCV</i> (or Grid Search, but when the number of hyperparams are great Randomized should be preferred)\n",
    "    * If the hyperparameter space is very large, another approach is to first run a quick random search with a wide array. Then, focus on the best regions and perform a longer search there.\n",
    "4. <b>Use and optimization library for tuning the model!</b>"
   ]
  },
  {
   "cell_type": "markdown",
   "id": "48bf873d-85d9-4911-89a4-130ca4ce76fe",
   "metadata": {},
   "source": [
    "### Guidelines for choosing hyperparameters"
   ]
  },
  {
   "cell_type": "markdown",
   "id": "88d931e3-9ebf-4c30-93b4-21a132f8396f",
   "metadata": {},
   "source": [
    "#### Number of hidden layers\n",
    "\n",
    "In general: better to start with fewer layers, then incrementally increase until overfitting becomes a problem.<br>\n",
    "NOTE: <i>Transfer learning</i>, where lower layers of a network is reused in new model with same values, can help kickstart the network in a beneficial direction. This is relevant when the problem concerns similar problems and representation as that of the existing network.\n",
    "___"
   ]
  },
  {
   "cell_type": "markdown",
   "id": "5e86d188-0fff-4351-9f86-af8ff27f2351",
   "metadata": {},
   "source": [
    "#### Number of Neurons per Hidden Layer\n",
    "\n",
    "Often helpful to start with too many layers and neurons, then let regularization and early stopping determine the appropriate amount.\n",
    "___"
   ]
  },
  {
   "cell_type": "markdown",
   "id": "f9458653-82b4-44ae-8730-273f143954ec",
   "metadata": {
    "jp-MarkdownHeadingCollapsed": true,
    "tags": []
   },
   "source": [
    "#### Learning rate, weight initialization and activation functions\n",
    "\n",
    "<b>Learning rate</b><br>\n",
    "Dynamically changing the learning rate might be beneficial for some problems. This technique is called <i>learning schedules</i>. <br>\n",
    "One example is to start with low learning rate, and gradually increase over epochs. Plotting the loss as a function of the learning rate helps in choosing the best value.\n",
    "\n",
    "<b>Weight initialization</b><br>\n",
    "Different weight initializations works better for some activation functions. E.g.: <i>He</i> for ReLU and <i>LeCun</i> for SELU. <br>\n",
    "Examples: <i>Glorot</i> (Keras default), <i>He initialization</i>, <i>LeCun</i><br>\n",
    "\n",
    "<b>Activation functions</b><br>\n",
    "Book recommends in general:<br>\n",
    "<center>SELU > ELU > leaky RELU > ReLU > tanh > logistic</center><br>\n",
    "HOWEVER: for <b>recurrent networks</b>, the SELU will not self-normalize, so ELU may be preferred for those networks"
   ]
  },
  {
   "cell_type": "markdown",
   "id": "fc10b571-426e-4b45-837f-f5792f7f7a0c",
   "metadata": {
    "tags": []
   },
   "source": [
    "## Regularization"
   ]
  },
  {
   "cell_type": "markdown",
   "id": "1826be64-5ab3-4eee-b47f-bb2930a92d71",
   "metadata": {},
   "source": [
    "### L1 and L2 regularization\n",
    "\n",
    "Specify the kernel_regularizer using a regularization factor. Examples: \n",
    "```Python \n",
    "    keras.regularizers.l1(regularization_factor)\n",
    "    keras.regularizers.l2(regularization_factor)\n",
    "    keras.regularizers.l1_l2(r1, r2)\n",
    "```\n",
    "To avoid foor loops when using many layers, use functools' partial:\n",
    "```Python\n",
    "from functools import partial\n",
    "RegularizedDense = partial(\n",
    "    keras.layers.Dense, \n",
    "    activation=\"elu\",                  \n",
    "    kernel_initializer=\"he_normal\",\n",
    "    kernel_regularizer=keras.regularizers.l2(0.01)\n",
    "  )\n",
    "model = ...RegularizedDense(num_neurons)...\n",
    "```\n",
    "___"
   ]
  },
  {
   "cell_type": "markdown",
   "id": "4b3bb523-ca8e-4e8c-8924-e20e19f5b354",
   "metadata": {},
   "source": [
    "### Dropout\n",
    "Add dropout layers after normal layer. Example:\n",
    "```Python\n",
    "model = ...Dense(...), keras.layers.Dropout(rate=dropout_rate)\n",
    "```\n",
    "Dropout is often only applied to last hidden layer.\n",
    "Warning: dropout is not active for testing, thus comparing training and validation loss may be misleading. Thus, evaluating the raining loss without dropout gives a better comparison to validation loss.\n",
    "___"
   ]
  },
  {
   "cell_type": "markdown",
   "id": "f34b6f8c-4cbc-41ac-978c-dc45d66f8c48",
   "metadata": {},
   "source": [
    "### Monte Carlo Dropout\n",
    "This can be achieved by making several predictions while still using dropout, making every prediction have some stochasticity to it. Then, compute the mean of these predictions to achieve a Monte Carlo estimate.<br>\n",
    "NOTE: If the model contains other layers behaving differently during training vs testing, using ```training=TRUE``` should be avoided. Instead, use a MCDropout subclass for the Dropoutlayers where the training argument is forced to be true.\n",
    "<br>Examples:\n",
    "```Python\n",
    "### Monte Carlo Dropout w/ 100 predictions\n",
    "y_probas = np.stack([model(X_test, training=True) for sample in range(100)])\n",
    "y_proba = y_probas.mean(axis=0)\n",
    "\n",
    "### Monte Carlo Dropout class\n",
    "class MCDropout(keras.layers.Dropout):\n",
    "    def call(self, inputs):\n",
    "        return super().call(inputs, training=True)\n",
    "```\n",
    "___"
   ]
  },
  {
   "cell_type": "markdown",
   "id": "528ca291-7e5f-4b35-98bf-6f2c32e52d53",
   "metadata": {},
   "source": [
    "## Summarized \"default\" configurations"
   ]
  },
  {
   "attachments": {
    "26a9ea43-d618-4400-9822-c53192dae9a8.png": {
     "image/png": "[encoded data removed]"
    }
   },
   "cell_type": "markdown",
   "id": "01d9c07c-3fd4-466d-b477-bcdbfcb943e5",
   "metadata": {},
   "source": [
    "A regular use case can often consist of these specifications:<br>\n",
    "![image.png](attachment:26a9ea43-d618-4400-9822-c53192dae9a8.png)"
   ]
  },
  {
   "attachments": {
    "ed537874-3cf4-46b8-8a32-0588317e27c5.png": {
     "image/png": "[encoded data removed]"
    }
   },
   "cell_type": "markdown",
   "id": "5ca635ac-655c-4eb4-a24c-e75b592383ab",
   "metadata": {},
   "source": [
    "If the network <b>solely consists of simple dense layers</b>, it can self-normalize through `selu` activation and `lecun_normal` kernel initializer with the following specifications: <b>NOTE! REQUIRES NORMALIZING INPUTS</b><br>\n",
    "![image.png](attachment:ed537874-3cf4-46b8-8a32-0588317e27c5.png)\n"
   ]
  },
  {
   "cell_type": "markdown",
   "id": "7621b9a5-4e48-4866-9854-7ea33c0a9a4e",
   "metadata": {
    "tags": []
   },
   "source": [
    "## Forecasting a Time Series using RNNs"
   ]
  },
  {
   "cell_type": "markdown",
   "id": "0c0c636d-7ab8-47ee-8949-594a0b05b504",
   "metadata": {
    "jp-MarkdownHeadingCollapsed": true,
    "tags": []
   },
   "source": [
    "### Introductory elements"
   ]
  },
  {
   "cell_type": "markdown",
   "id": "714439c6-c6dc-42a6-97b9-c1adcdd02630",
   "metadata": {},
   "source": [
    "#### Dimensionality\n",
    "The dimensionality of time series input features are often of the type \n",
    "<center>[<i>batch size, time steps, dimensionality</i>]</center>\n",
    "The <i>dimensionality</i> corresponds to the dimensionality of the input features.\n",
    "___"
   ]
  },
  {
   "cell_type": "markdown",
   "id": "05206d9e-7219-41bd-8e0c-f13359a4e11a",
   "metadata": {},
   "source": [
    "#### Multiple steps parameter\n",
    "The parameter ```return_sequences``` determines if the recurrent layer will return only the final output. If it is set to ```True```, it will return one output per time step. When using multiple layers, this must be set to ```True``` to ensure that each new layer gets all timesteps as input!\n",
    "___"
   ]
  },
  {
   "cell_type": "markdown",
   "id": "840bc220-8f94-46bc-af78-0bb87106bd8b",
   "metadata": {},
   "source": [
    "#### Output layer\n",
    "Generally, it might be better to use a ```Dense```layer or similar for the output, allowing for customizing the activation function. This is particularly relevant when only one prediction is done, as the last layer will not perform any particular function, i.e., ```LSTM(1)```\n",
    "___"
   ]
  },
  {
   "cell_type": "markdown",
   "id": "1c54bf78-baf7-45ad-952d-5ba8aafeab63",
   "metadata": {
    "tags": []
   },
   "source": [
    "### Splitting a sequential dataset"
   ]
  },
  {
   "cell_type": "markdown",
   "id": "6ccbe6ad-53bd-4694-b6f8-38c876b17601",
   "metadata": {},
   "source": [
    "#### Stationarity and splitting\n",
    "If the dataset is split along the time dimensions, this implicitly assumes stationarity: patterns the model learns in the past will still be relevant in the future!<br>\n",
    "One method of checking for stationarity is to plot the model's errors on the validation set over time: if the model performs better on the first part of the validation set, this might inidicate non-stationarity.\n",
    "___"
   ]
  },
  {
   "cell_type": "markdown",
   "id": "36915d2e-6b0c-40d6-9c21-070ccf1cc848",
   "metadata": {
    "jp-MarkdownHeadingCollapsed": true,
    "tags": []
   },
   "source": [
    "#### Chopping sequential dataset into windows\n",
    "The ```window()``` method creates nonoverlapping windows by default, but this can be altered by parameters. Some parameter explanations:\n",
    "* Using ```shift=n``` makes the window shift by <i>n</i> steps at each new window, ie 0-10, 1-11, 2-12 etc.\n",
    "* The ```drop_remainder```, when set to True, will drop the extra windows where the number of elements will be less than the stated window_length, e.g., for the sequence 0-10 and window size 3, windows [9,10] and [10] will not be created.<br>\n",
    "\n",
    "Windows cannot be used as input directly, and must be flattened frist by the ```flat_map()``` method:\n",
    "```Python\n",
    "dataset = dataset.flat_map(\n",
    "    lambda window: window.batch(window_length)\n",
    ")\n",
    "```\n",
    "As always, it is beneficial to shuffle the windows and then separate targets from inputs. Example:\n",
    "```Python\n",
    "batch_size = 32\n",
    "dataset = dataset.shuffle(10000).batch(batch_size)\n",
    "dataset = dataset.map(\n",
    "    lambda windows: (windows[:, :-1], windows[:, 1:])\n",
    ")\n",
    "```\n",
    "Finally, prefetching should be added:\n",
    "```Python\n",
    "dataset = dataset.prefetch(1)\n",
    "```\n",
    "___"
   ]
  },
  {
   "cell_type": "markdown",
   "id": "35b45022-f72c-48f8-be76-bafe218f735a",
   "metadata": {
    "jp-MarkdownHeadingCollapsed": true,
    "tags": []
   },
   "source": [
    "### Forecasting multiple steps ahead"
   ]
  },
  {
   "cell_type": "markdown",
   "id": "60c35e39-c5dd-4a20-93c8-3eddb49d433a",
   "metadata": {},
   "source": [
    "#### Approach 1: Use previous predictions as input\n",
    "Example:\n",
    "```Python\n",
    "for step_ahead in range(10):\n",
    "    next_pred = model.predict(\n",
    "        X[:, step_ahead:]\n",
    "    )[:, None, :]\n",
    "    X = np.concatenate([X, next_pred], axis=1)\n",
    "y_pred = X[:, n_steps]\n",
    "```\n",
    "This uses the last prediction as input to the model, predicts the step after and so forth for the desired number of steps.<br>\n",
    "<b>NOTE:</b> This will accumulate the errors, and is generally inappropriate!\n",
    "___"
   ]
  },
  {
   "cell_type": "markdown",
   "id": "167af2db-b8ab-49aa-a956-fcb91109c391",
   "metadata": {},
   "source": [
    "#### Approach 2: Train RNN to predict all values at once\n",
    "Example:\n",
    "```Python\n",
    "model = keras.models.Sequential([\n",
    "    keras.layers.SimpleRNN(\n",
    "        20, \n",
    "        return_sequences=True, \n",
    "        input_shape=[None, 1]\n",
    "    ),\n",
    "    keras.layers.SimpleRNN(20),\n",
    "    keras.layers.Dense(10)\n",
    "])\n",
    "```\n",
    "The final line makes the output layer have 10 outputs instead of one, corresponding to making ten new predictions.<br>\n",
    "___"
   ]
  },
  {
   "cell_type": "markdown",
   "id": "8513b665-fae6-4c34-a3c4-f738bdafd578",
   "metadata": {},
   "source": [
    "#### Approach 3: Improved approach 2 - training on forecasting next n values at every layer\n",
    "It is generally better to train the model to forecast the next 10 values at every layer. This requires the target to be a sequence of samle length as input sequence.\n",
    "<br> Example:\n",
    "```Python\n",
    "model = keras.models.Sequential([\n",
    "    keras.layers.SimpleRNN(\n",
    "        20, \n",
    "        return_sequences=True, \n",
    "        input_shape=[None, 1]\n",
    "    ),\n",
    "        keras.layers.SimpleRNN(\n",
    "        20, \n",
    "        return_sequences=True, \n",
    "    ),\n",
    "    keras.layers.TimeDistributed(\n",
    "        keras.layers.Dense(10)\n",
    "    )\n",
    "])\n",
    "```\n",
    "The final layer, ```TimeDistributed```, wraps each layer and applies the parameter layer at every step of the input sequence.<br>\n",
    "For this approach, a custom evaluation metric should be designed to only evaluate output at the last time step:<br>\n",
    "```Python\n",
    "def last_time_step_mse(Y_true, Y_pred):\n",
    "    return keras.metrics.mean_squared_error(\n",
    "        Y_true[:, -1], Y_pred[:, -1]\n",
    "    )\n",
    "```"
   ]
  },
  {
   "cell_type": "markdown",
   "id": "50bc41e3-1867-4cd3-bf74-1344271de397",
   "metadata": {
    "tags": []
   },
   "source": [
    "### Handling long sequences\n",
    "Long sequences may cause the unstable gradients problems. Additionally, the network will gradually forget the first inputs in the sequence."
   ]
  },
  {
   "cell_type": "markdown",
   "id": "31af435b-eaf3-4415-81c2-8117c3a60d2d",
   "metadata": {
    "jp-MarkdownHeadingCollapsed": true,
    "tags": []
   },
   "source": [
    "#### Handling unstable gradients: Layer Normalization\n",
    "Normalization is performed along the feature dimension. Can be done with ```tf.keras.layers.LayerNormalization(...)```\n",
    "___"
   ]
  },
  {
   "cell_type": "markdown",
   "id": "dbe36f76-2ee7-4592-90e2-291fbf469dff",
   "metadata": {},
   "source": [
    "#### Handling the short-term memory problem: LSTM and GRU"
   ]
  },
  {
   "cell_type": "markdown",
   "id": "5a8d5164-ddf3-476f-b303-b03d6f96469a",
   "metadata": {},
   "source": [
    "Implementation is straightforward: use ```keras.layers.LSTM```or ```keras.layers.GRU```.<br>\n",
    "\n",
    "GRU vs LSTM:\n",
    "* GRU is a simplified version of the LSTM cell, but often performs just as well.<br>\n",
    "\n",
    "Both models has fairly limited short-term memory, and consequently struggles with learning long-term patterns in sequences of 100 time steps or more.  This can be overcome by shortening the input sequences, e.g. through <i>1D convolutional layers</i>. See <i>Wavenet</i> for an explanation.\n",
    "___"
   ]
  },
  {
   "cell_type": "markdown",
   "id": "26eb9d25-8c19-4921-8e9a-678861b9ac3c",
   "metadata": {
    "tags": []
   },
   "source": [
    "## Autoencoders\n",
    "Autoencoders has several uses: \n",
    "* They can be used for preprocessing, where they can perform dimensionality reductions.\n",
    "* They can act as feature detectors, and be used for pretraining deep neural networks\n",
    "* Some are generative models, capable of generating new data similar to the training data.\n",
    "___"
   ]
  },
  {
   "cell_type": "markdown",
   "id": "b7b3879e-270f-4f5e-9004-c4ce5240c459",
   "metadata": {},
   "source": [
    "### PCA with autoencoders\n",
    "An autoencoder with only linear activations and MSE cost function performs a PCA. Example of PCA from 3D to 2D:\n",
    "```Python\n",
    "encoder = .Sequential([Dense(2, input_shape=[3])])\n",
    "decoder = .Sequential([Dense(3, input_shape=[2])])\n",
    "autoencoder = .Sequential([encoder, decoder])\n",
    "```\n",
    "___"
   ]
  },
  {
   "cell_type": "markdown",
   "id": "c4245e92-f68f-4ae1-8c71-1bce1d8f48d7",
   "metadata": {},
   "source": [
    "### Unsupervised pretraining using stacked autoencoders\n",
    "Useful for tasks with little labeled training data.\n",
    "___"
   ]
  },
  {
   "cell_type": "markdown",
   "id": "5e000592-d1a8-4c4b-951b-0aba0e418142",
   "metadata": {
    "jp-MarkdownHeadingCollapsed": true,
    "tags": []
   },
   "source": [
    "### Recurrent Autoencoders\n",
    "Example:\n",
    "```Python\n",
    "recurrent_encoder = .Sequential([\n",
    "    .LSTM(\n",
    "        100, return_sequences=True, input_shape=[None, 28]\n",
    "    ),\n",
    "    .LSTM(30)\n",
    "])\n",
    "\n",
    "recurrent_decoder = .Sequential([\n",
    "    .RepeatVector(28, input_shape=[30]),\n",
    "    .LSTM(\n",
    "        100, return_sequences=True\n",
    "    ),\n",
    "    .TimeDistributed(.Dense(28, activation=\"sigmoid\"))\n",
    "])\n",
    "\n",
    "recurrent_ae = .Sequential([\n",
    "    recurrent_encoder, recurrent_decoder\n",
    "])\n",
    "```\n",
    "The `RepeatVector()` ensures input vector gets fed to decoder at each time step.\n",
    "___"
   ]
  },
  {
   "cell_type": "markdown",
   "id": "d7a02636-9c1a-4591-bbad-5ec8bc387c5c",
   "metadata": {},
   "source": [
    "### Variational autoencoders - a way of doing Bayesian inference\n",
    "Characteristics:\n",
    "* Probabilistic - output determined partly by chance\n",
    "* Generative - can generate new instances<br> \n",
    "\n",
    "The encoder produces a mean coding and a standard deviation. Then, the actual coding is sampled randomly from a Gaussian distribution with the given mean and standard deviation. Afterwards, the decoder decodes the sampled coding normally. <br>\n",
    "\n",
    "<b>Cost function</b><br>\n",
    "\n",
    "Variational autoencoders has a twofold cost function:\n",
    "* The usual reconstruction loss pushing autoencoder to reproduce its inputs\n",
    "* Latent loss pushing autoencoders to have codings looking like they were sampled from a simple Gaussian distribution\n",
    "    * This is the KL divergence between the target distribution - the Gaussian distribution - and the actual distribution of the codings."
   ]
  },
  {
   "cell_type": "markdown",
   "id": "b740059b-d2a9-4732-972d-6823050d68f6",
   "metadata": {},
   "source": [
    "#### Building a variational autoencoder example:"
   ]
  },
  {
   "cell_type": "markdown",
   "id": "6dc7d2dd-f9c8-4324-817c-34a893c284e0",
   "metadata": {},
   "source": [
    "```Python\n",
    "class Sampling(.Layer):\n",
    "    def call(self, inputs):\n",
    "        mean, log_var = inputs\n",
    "        return \n",
    "    keras.backend.random_normal(tf.shape(log_var)) *\n",
    "    keras.backend.exp(log_var / 2) + mean\n",
    "```\n",
    "This layer samples a random vector from a Normal distribution with mean 0 and stddev 1, multiplies by the exp of the stddev/2 (or equivalently, the standard deviation), and adds the mean to the result. In short, it samples a codings vector from the Normal distribution with the given mean and stddev."
   ]
  },
  {
   "cell_type": "markdown",
   "id": "20442bb4-c6d7-4e8a-8a81-6a38f82989aa",
   "metadata": {},
   "source": [
    "Next, create the encoder:\n",
    "```Python\n",
    "codings_size = 10\n",
    "# Create mean and stddev\n",
    "inputs = .Input(shape=[28, 28])\n",
    "z = .Flatten()(inputs)\n",
    "z = .Dense(150, activation=\"selu\")(z)\n",
    "z = .Dense(100, activation=\"selu\")(z)\n",
    "codings_mean = .Dense(codings_size)(z)\n",
    "codings_log_var = .Dense(codings_size)(z)\n",
    "codings = Sampling()([codings_mean, codings_log_var])\n",
    "variational_encoder = .Model(\n",
    "    inputs=[inputs], \n",
    "    outputs=[codings_mean, codings_log_var, codings]\n",
    ")\n",
    "```\n",
    "The layers that output the mean and stddev has the same inputs."
   ]
  },
  {
   "cell_type": "markdown",
   "id": "6558642d-4497-4d7e-9f03-1d5210ebd206",
   "metadata": {},
   "source": [
    "Creating the decoder:\n",
    "```Python\n",
    "decoder_inputs = .Input(shape[codings_size])\n",
    "x = .Dense(100, activation=\"selu\")(decoder_inputs)\n",
    "x = .Dense(150, activation=\"selu\")(x)\n",
    "x = .Dense(28*28, activation=\"sigmoid\")(x)\n",
    "outputs = .Reshape([28, 28])(x)\n",
    "variational_decoder = .Model(\n",
    "    inputs=[decoder_inputs],\n",
    "    output=[outputs]\n",
    ")\n",
    "```"
   ]
  },
  {
   "cell_type": "markdown",
   "id": "38719ad2-5290-4cc8-b41e-9f5cb8fad38f",
   "metadata": {},
   "source": [
    "Building the model:\n",
    "```Python\n",
    "_, _, codings = variational_encoder(inputs)\n",
    "reconstructions = variational_decoder(codings)\n",
    "variational_ae = .Model(\n",
    "    inputs=[inputs], outputs=reconstructions\n",
    ")\n",
    "```"
   ]
  },
  {
   "cell_type": "markdown",
   "id": "7d3d98a3-f82a-4792-8fd0-5b7de8609d94",
   "metadata": {},
   "source": [
    "Adding the latent loss:\n",
    "```Python\n",
    "latent_loss = -0.5 * keras.backend.sum(\n",
    "    1 + codings_log_var - .exp(codings_log_var)\n",
    "    - .square(codings_mean),\n",
    "    axis=-1\n",
    ")\n",
    "variational_ae.add_loss(.mean(latent_loss) / 784.)\n",
    "variational_ae.compile(loss=\"binary_crossentropy\",\n",
    "                      optimizer=\"rmsprop\")\n",
    "```\n",
    "The KL divergence is the loss, and it is divided by 784(=28 * 28=input shape) to ensure it has appropriate scale compared to reconstruction loss."
   ]
  },
  {
   "cell_type": "code",
   "execution_count": null,
   "id": "6e6f0580-198f-434d-89d1-4b2a11baab2f",
   "metadata": {},
   "outputs": [],
   "source": []
  }
 ],
 "metadata": {
  "kernelspec": {
   "display_name": "master-venv",
   "language": "python",
   "name": "master-venv"
  },
  "language_info": {
   "codemirror_mode": {
    "name": "ipython",
    "version": 3
   },
   "file_extension": ".py",
   "mimetype": "text/x-python",
   "name": "python",
   "nbconvert_exporter": "python",
   "pygments_lexer": "ipython3",
   "version": "3.10.8"
  }
 },
 "nbformat": 4,
 "nbformat_minor": 5
}
